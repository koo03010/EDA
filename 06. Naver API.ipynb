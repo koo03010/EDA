{
 "cells": [
  {
   "cell_type": "markdown",
   "metadata": {},
   "source": [
    "# 06. Naver API"
   ]
  },
  {
   "cell_type": "markdown",
   "metadata": {},
   "source": [
    "## 1. 네이버 API 사용등록"
   ]
  },
  {
   "attachments": {},
   "cell_type": "markdown",
   "metadata": {},
   "source": [
    "- 네이버 개발자 센터\n",
    "- Application\n",
    "    - 어플리케이션 등록\n",
    "    - 어플리케이션 이름 ds_study\n",
    "    - 사용 API\n",
    "        - 검색\n",
    "        - 데이터랩(검색어트렌드)\n",
    "        - 데이터랩(쇼핑인사이트)\n",
    "    - 환경추가\n",
    "        - WEB설정\n",
    "        - http://localhost\n",
    "    - Client ID : MN34QdwuJuqhm92Q96Tn\n",
    "    - Client Secret : nkZvvy6MH3\n",
    "    - https://developers.naver.com/apps/#/myapps/MN34QdwuJuqhm92Q96Tn/overview"
   ]
  },
  {
   "cell_type": "markdown",
   "metadata": {},
   "source": [
    "## 2. 네이버 검색 API 사용하기"
   ]
  },
  {
   "cell_type": "markdown",
   "metadata": {},
   "source": [
    "- urllib : http 프로토콜에 따라서 서버의 요청/응답을 처리하기 위한 모듈\n",
    "- urllib.request : 클라이언트의 요청을 처리하는 모듈\n",
    "- urllib.parse : url 주소에 대한 분석"
   ]
  },
  {
   "cell_type": "markdown",
   "metadata": {},
   "source": [
    "## 검색 : 블로그"
   ]
  },
  {
   "cell_type": "code",
   "execution_count": null,
   "metadata": {},
   "outputs": [],
   "source": [
    "# 네이버 검색 API 예제 - 블로그 검색\n",
    "import os\n",
    "import sys\n",
    "import urllib.request\n",
    "\n",
    "client_id = \"MN34QdwuJuqhm92Q96Tn\"\n",
    "client_secret = \"nkZvvy6MH3\"\n",
    "\n",
    "encText = urllib.parse.quote(\"파이썬\")\n",
    "url = \"https://openapi.naver.com/v1/search/blog?query=\" + encText # JSON 결과\n",
    "# url = \"https://openapi.naver.com/v1/search/blog.xml?query=\" + encText # XML 결과\n",
    "request = urllib.request.Request(url)\n",
    "request.add_header(\"X-Naver-Client-Id\",client_id)\n",
    "request.add_header(\"X-Naver-Client-Secret\",client_secret)\n",
    "response = urllib.request.urlopen(request)\n",
    "rescode = response.getcode()\n",
    "if(rescode==200):\n",
    "    response_body = response.read()\n",
    "    print(response_body.decode('utf-8'))\n",
    "else:\n",
    "    print(\"Error Code:\" + rescode)"
   ]
  },
  {
   "cell_type": "code",
   "execution_count": 5,
   "metadata": {},
   "outputs": [
    {
     "data": {
      "text/plain": [
       "(<http.client.HTTPResponse at 0x2968b0e9730>, 200, 200, 200)"
      ]
     },
     "execution_count": 5,
     "metadata": {},
     "output_type": "execute_result"
    }
   ],
   "source": [
    "response, response.getcode(), response.code, response.status"
   ]
  },
  {
   "cell_type": "code",
   "execution_count": 9,
   "metadata": {},
   "outputs": [
    {
     "name": "stdout",
     "output_type": "stream",
     "text": [
      "{\n",
      "\t\"lastBuildDate\":\"Fri, 30 Dec 2022 17:23:20 +0900\",\n",
      "\t\"total\":375408,\n",
      "\t\"start\":1,\n",
      "\t\"display\":10,\n",
      "\t\"items\":[\n",
      "\t\t{\n",
      "\t\t\t\"title\":\"<b>파이썬<\\/b> 자격증 취득 수업 내용 정리!\",\n",
      "\t\t\t\"link\":\"https:\\/\\/blog.naver.com\\/eunoia1017\\/222968873209\",\n",
      "\t\t\t\"description\":\"<b>파이썬<\\/b> 자격증 취득 수업 내용 정리! 많은 분들이 자신의 본 직업이나 N잡으로 코딩 한 번씩은 다... 오늘은 제가 왜 <b>파이썬<\\/b> 자격증을 취득하게 되었는지에 대한 글을 같이 써보려고 해요! <b>파이썬<\\/b> 자격증을... \",\n",
      "\t\t\t\"bloggername\":\"반짝반짝 빛나는\",\n",
      "\t\t\t\"bloggerlink\":\"blog.naver.com\\/eunoia1017\",\n",
      "\t\t\t\"postdate\":\"20221229\"\n",
      "\t\t},\n",
      "\t\t{\n",
      "\t\t\t\"title\":\"<b>파이썬<\\/b>학원 초보자를 위한 공부과정!\",\n",
      "\t\t\t\"link\":\"https:\\/\\/blog.naver.com\\/chzhvkdll\\/222931446581\",\n",
      "\t\t\t\"description\":\"그래서 제가 <b>파이썬<\\/b>학원을 다닌 계기과 장단점, 고민에 대해 써보도록 하겠습니다 :) 모두가 같을 수는... <b>파이썬<\\/b>학원 수강 신청한 건 대학 후배 중에 갑자기 전공 무관하게 그쪽으로 턴해서 공부하고 취직했단... \",\n",
      "\t\t\t\"bloggername\":\"에피\",\n",
      "\t\t\t\"bloggerlink\":\"blog.naver.com\\/chzhvkdll\",\n",
      "\t\t\t\"postdate\":\"20221118\"\n",
      "\t\t},\n",
      "\t\t{\n",
      "\t\t\t\"title\":\"부산코딩학원 <b>파이썬<\\/b> 개발 기초부터 배우기\",\n",
      "\t\t\t\"link\":\"https:\\/\\/blog.naver.com\\/cd34579\\/222947814795\",\n",
      "\t\t\t\"description\":\"좋지만 <b>파이썬<\\/b>이 업계에서 많이 쓰고 있기도 하고, 처음 배우기에는 가장 쉬운 언어라고 하셔서 <b>파이썬<\\/b> 기초반에 등록을 하게 되었습니다! 지금 생각해보면 <b>파이썬<\\/b>으로 시작하기 잘한 것 같아요. 프로그래밍은... \",\n",
      "\t\t\t\"bloggername\":\"행복바이러스^^\",\n",
      "\t\t\t\"bloggerlink\":\"blog.naver.com\\/cd34579\",\n",
      "\t\t\t\"postdate\":\"20221206\"\n",
      "\t\t},\n",
      "\t\t{\n",
      "\t\t\t\"title\":\"<b>파이썬<\\/b> 강의 취업 성공의 필수 학습전략\",\n",
      "\t\t\t\"link\":\"https:\\/\\/blog.naver.com\\/ansoeon\\/222962696977\",\n",
      "\t\t\t\"description\":\"그렇게 앞으로 뭘 하면서 살까 고민하다가 친구의 권유로 <b>파이썬<\\/b> 강의를 듣게 되었습니다. 처음엔 관심... 왜 하필 <b>파이썬<\\/b>이냐고 한다면 기존에 쓰던 프로그래밍 언어는 0과1로만 이루어진 이진수였는데요.... \",\n",
      "\t\t\t\"bloggername\":\"vita activa\",\n",
      "\t\t\t\"bloggerlink\":\"blog.naver.com\\/ansoeon\",\n",
      "\t\t\t\"postdate\":\"20221222\"\n",
      "\t\t},\n",
      "\t\t{\n",
      "\t\t\t\"title\":\"<b>파이썬<\\/b>학원 입문자도 수월한 학습과정\",\n",
      "\t\t\t\"link\":\"https:\\/\\/blog.naver.com\\/kumh\\/222959842265\",\n",
      "\t\t\t\"description\":\"저 또한 이 분야에 중 웹 개발에 관심이 있었고, 관련된 지식이 없어 기초부터 시작해 체계적으로 배워보고 싶어 <b>파이썬<\\/b>학원을 찾아가게 되었어요. <b>파이썬<\\/b>은 프로그래밍을 입문자가 처음 접하는 과정의... \",\n",
      "\t\t\t\"bloggername\":\"까비까비의 지식창고\",\n",
      "\t\t\t\"bloggerlink\":\"blog.naver.com\\/kumh\",\n",
      "\t\t\t\"postdate\":\"20221219\"\n",
      "\t\t},\n",
      "\t\t{\n",
      "\t\t\t\"title\":\"<b>파이썬<\\/b>학원 누구나 기초부터 배울 수 있다! 취업까지 성공~\",\n",
      "\t\t\t\"link\":\"https:\\/\\/blog.naver.com\\/cksdlf227\\/222953636388\",\n",
      "\t\t\t\"description\":\"그래서 고민하다 <b>파이썬<\\/b>학원을 다녀보게 되었죠. 원래부터 웹이나 앱 개발 하는 과정 혹은 요즘... 무턱대고 취준을 하기엔 관심만으로 도전할 수 있는 쉬운 분야는 아니다보니 <b>파이썬<\\/b>학원을 다니면서 제대로... \",\n",
      "\t\t\t\"bloggername\":\"타밀&apos;s 추억창고\",\n",
      "\t\t\t\"bloggerlink\":\"blog.naver.com\\/cksdlf227\",\n",
      "\t\t\t\"postdate\":\"20221212\"\n",
      "\t\t},\n",
      "\t\t{\n",
      "\t\t\t\"title\":\"<b>파이썬<\\/b>학원 지원받고 공부해요!\",\n",
      "\t\t\t\"link\":\"https:\\/\\/blog.naver.com\\/sorare123\\/222937286140\",\n",
      "\t\t\t\"description\":\"문과이다 보니 취업을 할 수 있는 폭이 적어서 고민 끝에 <b>파이썬<\\/b>학원을 다니기로 했어요. 하지만... 온라인 강의도 많았는데 저는 아주 기초적인 것부터 옆에서 강사님이 직접 가르쳐주길 바랬기 때문에 <b>파이썬<\\/b>학... \",\n",
      "\t\t\t\"bloggername\":\"BLUE OCEAN\",\n",
      "\t\t\t\"bloggerlink\":\"blog.naver.com\\/sorare123\",\n",
      "\t\t\t\"postdate\":\"20221124\"\n",
      "\t\t},\n",
      "\t\t{\n",
      "\t\t\t\"title\":\"<b>파이썬<\\/b> 강좌 톡톡한 학습효과 후기!\",\n",
      "\t\t\t\"link\":\"https:\\/\\/blog.naver.com\\/parkrapp\\/222935839910\",\n",
      "\t\t\t\"description\":\"때쯤 <b>파이썬<\\/b>강좌에 대한 이야기를 건너 듣게 되었어요. 요즘은 OA나 각종 프로그래밍 능력이 입증되면... 본격적으로 <b>파이썬<\\/b>강좌를 통해 다음 단계로 뻗어나가기로 결단을 내리게 되었는데요! 밑바탕 없이도... \",\n",
      "\t\t\t\"bloggername\":\"황금빛 쭈롱월드\",\n",
      "\t\t\t\"bloggerlink\":\"blog.naver.com\\/parkrapp\",\n",
      "\t\t\t\"postdate\":\"20221123\"\n",
      "\t\t},\n",
      "\t\t{\n",
      "\t\t\t\"title\":\"<b>파이썬<\\/b>교육 기초부터 실무 수업 과정 정리\",\n",
      "\t\t\t\"link\":\"https:\\/\\/blog.naver.com\\/qant33\\/222962735573\",\n",
      "\t\t\t\"description\":\"결국 <b>파이썬<\\/b>교육에 대해서 살펴 보게 되었습니다. 아무래도 해당 분야의 지식이 아예 없는 상태에서... <b>파이썬<\\/b>교육은 다양한 곳이 있었기 때문에 하나하나 상담을 받으면서 내가 참여 할 수 있는 곳이 어디인지를... \",\n",
      "\t\t\t\"bloggername\":\"기억 그리고 기록 ♡\",\n",
      "\t\t\t\"bloggerlink\":\"blog.naver.com\\/qant33\",\n",
      "\t\t\t\"postdate\":\"20221222\"\n",
      "\t\t},\n",
      "\t\t{\n",
      "\t\t\t\"title\":\"프로그래밍학원 탄탄한 <b>파이썬<\\/b> 기초 수업 과정\",\n",
      "\t\t\t\"link\":\"https:\\/\\/blog.naver.com\\/jhshh\\/222969302948\",\n",
      "\t\t\t\"description\":\"기초 코딩과정이 1) <b>파이썬<\\/b>, 2) 자바, 3) 웹표준, 4) C언어, 5) C++, 6) C# 등 정말 다양해서 무엇부터 들어보아야 할지 가장 깊게 생각을 많이 해 보았구요. 프로그래밍학원 강사님과 면담을 진행한 결과, 결국 <b>파이썬<\\/b>... \",\n",
      "\t\t\t\"bloggername\":\"모순 덩어리\",\n",
      "\t\t\t\"bloggerlink\":\"blog.naver.com\\/jhshh\",\n",
      "\t\t\t\"postdate\":\"20221229\"\n",
      "\t\t}\n",
      "\t]\n",
      "}\n"
     ]
    }
   ],
   "source": [
    "# 글자로 읽을 경우, decode utf-8 설정\n",
    "print(response_body.decode('utf-8'))"
   ]
  },
  {
   "cell_type": "code",
   "execution_count": null,
   "metadata": {},
   "outputs": [],
   "source": [
    "## 검색 : 책"
   ]
  },
  {
   "cell_type": "code",
   "execution_count": 10,
   "metadata": {},
   "outputs": [
    {
     "name": "stdout",
     "output_type": "stream",
     "text": [
      "{\n",
      "\t\"lastBuildDate\":\"Fri, 30 Dec 2022 17:26:58 +0900\",\n",
      "\t\"total\":812,\n",
      "\t\"start\":1,\n",
      "\t\"display\":10,\n",
      "\t\"items\":[\n",
      "\t\t{\n",
      "\t\t\t\"title\":\"혼자 공부하는 파이썬 (1:1 과외하듯 배우는 프로그래밍 자습서)\",\n",
      "\t\t\t\"link\":\"https:\\/\\/search.shopping.naver.com\\/book\\/catalog\\/32507605957\",\n",
      "\t\t\t\"image\":\"https:\\/\\/shopping-phinf.pstatic.net\\/main_3250760\\/32507605957.20221019133018.jpg\",\n",
      "\t\t\t\"author\":\"윤인성\",\n",
      "\t\t\t\"discount\":\"19800\",\n",
      "\t\t\t\"publisher\":\"한빛미디어\",\n",
      "\t\t\t\"pubdate\":\"20220601\",\n",
      "\t\t\t\"isbn\":\"9791162245651\",\n",
      "\t\t\t\"description\":\"『혼자 공부하는 파이썬』이 더욱 흥미있고 알찬 내용으로 개정되었습니다. 프로그래밍이 정말 처음인 입문자도 따라갈 수 있는 친절한 설명과 단계별 학습은 그대로! 혼자 공부하더라도 체계적으로 계획을 세워 학습할 수 있도록 ‘혼공 계획표’를 새롭게 추가했습니다. 또한 입문자가 자주 물어보는 질문과 오류 해결 방법을 적재적소에 배치하여 예상치 못한 문제에 부딪혀도 좌절하지 않고 끝까지 완독할 수 있도록 도와줍니다. 단순한 문법 암기와 코딩 따라하기에 지쳤다면, 새로운 혼공파와 함께 ‘누적 예제’와 ‘도전 문제’로 프로그래밍의 신세계를 경험해 보세요! 배운 내용을 씹고 뜯고 맛보고 즐기다 보면 응용력은 물론 알고리즘 사고력까지 키워 코딩 실력이 쑥쑥 성장할 것입니다.\\n\\n혼자 해도 충분하다! 1:1 과외하듯 배우는 파이썬 프로그래밍 자습서\\n이 책은 독학으로 파이썬을 배우는 입문자가 ‘꼭 필요한 내용을 제대로 학습’할 수 있도록 구성했습니다. 뭘 모르는지조차 모르는 입문자의 막연한 마음에 십분 공감하여 과외 선생님이 알려주듯 친절하게, 핵심적인 내용만 콕콕 집어줍니다. 책의 첫 페이지를 펼쳐서 마지막 페이지를 덮을 때까지, 혼자서도 충분히 파이썬을 배울 수 있다는 자신감과 확신이 계속될 것입니다!\\n\\n베타리더 검증으로, ‘함께 만든’ 입문자 맞춤형 도서\\n베타리더와 함께 입문자에게 맞는 난이도, 분량, 학습 요소 등을 적극 반영했습니다. 어려운 용어와 개념은 한 번 더 풀어쓰고, 복잡한 설명은 눈에 잘 들어오는 그림으로 풀어냈습니다. ‘혼자 공부해 본’ 여러 입문자의 초심과 눈높이가 책 곳곳에 반영된 것이 이 책의 가장 큰 장점입니다.\"\n",
      "\t\t},\n",
      "\t\t{\n",
      "\t\t\t\"title\":\"파이썬과 40개의 작품들 (자동화, 크롤링, 이미지처리, 데이터분석, 웹페이지, GUI 프로그램, 게임)\",\n",
      "\t\t\t\"link\":\"https:\\/\\/search.shopping.naver.com\\/book\\/catalog\\/32472041705\",\n",
      "\t\t\t\"image\":\"https:\\/\\/shopping-phinf.pstatic.net\\/main_3247204\\/32472041705.20221019105332.jpg\",\n",
      "\t\t\t\"author\":\"장문철\",\n",
      "\t\t\t\"discount\":\"16920\",\n",
      "\t\t\t\"publisher\":\"앤써북\",\n",
      "\t\t\t\"pubdate\":\"20220228\",\n",
      "\t\t\t\"isbn\":\"9791185553931\",\n",
      "\t\t\t\"description\":\"이 책은 내 업무와 생활에 바로 적용할 수 있는 40개의 프로그램을 직접 코딩해서 만들어보고, 동시에 파이썬을 자연스럽게 이해할 수 있게 구성하였다!\\n\\n파이썬 기초 문법 떼고 자동화, 크롤링, 이미지처리, 데이터분석, 웹페이지, GUI 프로그램, 게임, 인공지능 관련 40개 프로그램 직접 파이썬 코딩하며 만들어 본다.  \\n\\n이 책은 파이썬 기초 문법을 익힌 후 총 40개의 주제별 프로그램을 직접 코딩하며 만들어볼 수 있도록 구성하였다.\"\n",
      "\t\t},\n",
      "\t\t{\n",
      "\t\t\t\"title\":\"Do it! 알고리즘 코딩 테스트: 파이썬 편 (코딩 테스트를 처음 준비하는 취준생의 필독서!)\",\n",
      "\t\t\t\"link\":\"https:\\/\\/search.shopping.naver.com\\/book\\/catalog\\/33938438618\",\n",
      "\t\t\t\"image\":\"https:\\/\\/shopping-phinf.pstatic.net\\/main_3393843\\/33938438618.20221019145521.jpg\",\n",
      "\t\t\t\"author\":\"김종관\",\n",
      "\t\t\t\"discount\":\"28800\",\n",
      "\t\t\t\"publisher\":\"이지스퍼블리싱\",\n",
      "\t\t\t\"pubdate\":\"20220816\",\n",
      "\t\t\t\"isbn\":\"9791163033936\",\n",
      "\t\t\t\"description\":\"기출 유형 분석부터 문제 풀이 비법까지\\n코딩 테스트를 처음 준비하는 IT 기업 취준생의 필독서!\\n\\n“코딩 테스트를 제대로 준비하려면 어떤 문제를 얼마나 풀어야 할까?” 곧 코딩 테스트를 앞둔 취업 또는 이직 준비생이라면 누구나 이런 고민을 할 것이다. 《Do it! 알고리즘 코딩 테스트 - 파이썬 편》에 그 답이 있다. 네이버, 카카오, 삼성, 라인 등 주요 IT 기업의 시험에 나오는 알고리즘 내용이 모두 담겨 있어 책 한 권만으로 코딩 테스트 합격에 필요한 지식을 충분히 공부할 수 있다. 책에 수록된 알고리즘 문제 100개는 모두 최신 기출 유형을 반영하고 있어서 이 책의 문제만 다 풀면 당장 코딩 테스트를 볼 수 있는 수준까지 실력을 갖출 수 있다. 모든 문제는 ‘분석, 전략, 슈도코드, 코드 구현’까지 총 4단계를 거쳐 푸는데, 이렇게 문제를 푸는 습관까지 자기 것으로 만든다면 진짜 시험에서 어떤 문제를 만나든 실수 없이 해결할 수 있을 것이다.\"\n",
      "\t\t},\n",
      "\t\t{\n",
      "\t\t\t\"title\":\"파이썬 클린 코드 (유지보수가 쉬운 파이썬 코드를 만드는 비결)\",\n",
      "\t\t\t\"link\":\"https:\\/\\/search.shopping.naver.com\\/book\\/catalog\\/35212455631\",\n",
      "\t\t\t\"image\":\"https:\\/\\/shopping-phinf.pstatic.net\\/main_3521245\\/35212455631.20221019140442.jpg\",\n",
      "\t\t\t\"author\":\"마리아노 아나야\",\n",
      "\t\t\t\"discount\":\"25060\",\n",
      "\t\t\t\"publisher\":\"터닝포인트\",\n",
      "\t\t\t\"pubdate\":\"20221111\",\n",
      "\t\t\t\"isbn\":\"9791161341330\",\n",
      "\t\t\t\"description\":\"파이썬 3.9 신규 기능 및 최신 트렌드가 반영된 견고하면서도 확장성이 뛰어난 파이썬 코드를 만드는 비법\\n\\n최근 파이썬은 소프트웨어 개발, 시스템 관리 및 데이터 처리와 같은 다양한 분야에서 매우 널리 사용되고 있다. 그렇지만 클린하지 않은 코드로 인해 가독성이 낮고, 테스트가 용이하지 않은 상황이 자주 발생하고 있으며, 숙련된 개발자라면 이러한 문제를 발견하고 해결할 수 있어야 한다. 이번 개정판에서는 파이썬 3.9 버전의 새로운 기능에 맞춰 코드와 내용을 업데이트하였으며, 기존 코드의 문제점을 개선하고 프로젝트를 성공적으로 관리하는 데 필요한 모든 도구를 제공하고 있다 \\n\\n이 책은 클린코드의 기본 요소가 무엇인지 설명하고 파이썬에서 어떻게 중요한 역할을 하게 되는지 살펴본다. 또한 파이썬 표준 라이브러리와 다른 모범 사례를 통해 효율적이고 가독성이 높은 코드를 어떻게 작성할 수 있는지 살펴본다.\\n\\n그리고 파이썬에서 객체지향 프로그래밍은 어떻게 구현되는지, 디스크립터와 제너레이터는 무엇인지에 대해 자세히 설명한다. 또한 테스트 작성 시 주의해야 할 디자인 원칙과 일반적인 문제를 해결하기 위해 디자인 패턴을 사용하는 방법에 대해서 안내한다. 마지막 장에서는 모놀리식(monolithic) 단일 애플리케이션을 견고한 플랫폼의 기본 요소로 사용될 마이크로서비스(microservice)로 분리해본다.\"\n",
      "\t\t},\n",
      "\t\t{\n",
      "\t\t\t\"title\":\"모두의 파이썬 (20일 만에 배우는 프로그래밍 기초)\",\n",
      "\t\t\t\"link\":\"https:\\/\\/search.shopping.naver.com\\/book\\/catalog\\/32463987904\",\n",
      "\t\t\t\"image\":\"https:\\/\\/shopping-phinf.pstatic.net\\/main_3246398\\/32463987904.20221019110729.jpg\",\n",
      "\t\t\t\"author\":\"이승찬\",\n",
      "\t\t\t\"discount\":\"10800\",\n",
      "\t\t\t\"publisher\":\"길벗\",\n",
      "\t\t\t\"pubdate\":\"20181009\",\n",
      "\t\t\t\"isbn\":\"9791160505856\",\n",
      "\t\t\t\"description\":\"파이썬 분야 & 어린이 코딩 교육 분야\\n2년 연속 베스트셀러! 개정판 출간!\\n\\n즐겁게 시작하는 나의 첫 프로그래밍!\\n프로그래밍을 한 번도 해본 적이 없어도 괜찮다. 파이썬이 무엇인지 몰라도 상관 없다. 어려운 개념과 복잡한 이론 설명은 최대한 줄이고, 초보자가 프로그래밍을 쉽게 배울 수 있도록 짧고 간단한 예제로 내용을 구성했다. 처음부터 모든 것을 다 이해하지 못해도 괜찮다. 프로그램을 따라서 입력하고, 실행 결과를 확인하며, 책에서 알려주는 대로 에러를 수정해 보자. 어느새 파이썬 프로그램으로 멋진 그림을 그리고, 계산을 하고, 간단한 게임을 만들고, 수학 문제를 푸는 자신을 발견하게 될 것이다. \\n\\n* 《모두의 파이썬, 개정 2판》에서는 파이썬 최신 버전을 반영하였으며, Day 19 ‘파이썬으로 수학 문제 풀기 1’의 내용을 중학 수학 2015 개정교육과정에 맞춰 수정 및 보완하였습니다. 나머지 내용은 초판과 동일합니다.\"\n",
      "\t\t},\n",
      "\t\t{\n",
      "\t\t\t\"title\":\"파이썬 마스터 1·2급\",\n",
      "\t\t\t\"link\":\"https:\\/\\/search.shopping.naver.com\\/book\\/catalog\\/32436254187\",\n",
      "\t\t\t\"image\":\"https:\\/\\/shopping-phinf.pstatic.net\\/main_3243625\\/32436254187.20221019123815.jpg\",\n",
      "\t\t\t\"author\":\"유성열\",\n",
      "\t\t\t\"discount\":\"19800\",\n",
      "\t\t\t\"publisher\":\"명진씨앤피\",\n",
      "\t\t\t\"pubdate\":\"20211101\",\n",
      "\t\t\t\"isbn\":\"9788992561525\",\n",
      "\t\t\t\"description\":\"파이썬에 대한 전문지식과 IT서비스 및 \\n인프라 구축의 모든 것을 담았다\\n\\n〈파이썬의 기본 개념부터 심화 학습까지, 파이썬 마스터로의 도약을 꿈꾸다〉\\n파이썬은 초보자부터 전문가까지 넓은 사용자층을 보유하고 있다. 누구나 쉽게 접근할 수 있을 뿐 아니라 대부분의 응용 소프트웨어에서 사용 가능하기 때문이다. 이에 프로그래밍 전공자부터 경영, 경제 등 사회과학 분야의 전공자들까지, 파이썬을 공부하고자 하는 사람들이 늘어나고 있다. 파이썬에 대한 관심에 발맞추어 한국정보통신진흥협회(KAIT)에서는 2020년부터 파이썬 언어에 대한 이해 및 활용 능력을 측정하기 위한 자격검증을 시행하고 있다. 이 책은 KAIT의 파이썬 활용 능력에 대한 자격 검증인 “파이썬 마스터” 1급 및 2급을 준비하는 독자들에게 도움을 주고자 출간하게 되었다. 기본 개념에 대한 상세한 설명은 물론, 예시를 통한 코딩 구현 과정 제시, 풍부한 실전 예제를 통한 심화 학습, 나아가 샘플 문제 풀이까지 학습할 수 있다. 체계적인 학습을 제공함으로 파이썬 마스터를 취득하기 위한 이들에게 필수 교재가 되어줄 것이다.\"\n",
      "\t\t},\n",
      "\t\t{\n",
      "\t\t\t\"title\":\"파이썬 무작정 따라하기 (미래의 프로그래머를 위한)\",\n",
      "\t\t\t\"link\":\"https:\\/\\/search.shopping.naver.com\\/book\\/catalog\\/32439274496\",\n",
      "\t\t\t\"image\":\"https:\\/\\/shopping-phinf.pstatic.net\\/main_3243927\\/32439274496.20221019132155.jpg\",\n",
      "\t\t\t\"author\":\"서승희^송석리\",\n",
      "\t\t\t\"discount\":\"12600\",\n",
      "\t\t\t\"publisher\":\"길벗\",\n",
      "\t\t\t\"pubdate\":\"20211220\",\n",
      "\t\t\t\"isbn\":\"9791165217891\",\n",
      "\t\t\t\"description\":\"초등학생을 위한 파이썬 교재\\n첫 코딩을 쉽고 재밌게!\\n\\n이 책은 초등학생부터 청소년까지 쉽고 체계적으로 파이썬 코딩을 배울 수 있는 책입니다. 데이터, 조건문, 변수, 반복문, 함수, 라이브러리 등 개념 이해부터, 코드 실습, 연습 문제 3단계 구성으로 차근차근 따라 할 수 있도록 안내합니다. 기본 개념을 배운 후에는 터틀 그래픽으로 그림을 그려보고, 마지막으로는 ‘불꽃을 발사해서 몹을 물리치는’ 게임을 직접 만들어 봅니다. 블록 코딩을 끝낸 뒤 텍스트 코딩을 본격적으로 배우고 싶다면 이 책으로 시작해 보세요!\\n\\n파이썬 설치부터 활용 방법, 기본 개념을 꼼꼼하게 자세하게 알려줘요!\\n파이썬은 무엇이며 어떻게 사용하는지 차근차근 알아봅니다. 현직 교사가 집필하여 아이들의 눈높이에서 개념 설명부터 코드 실습, 연습 문제까지 단계별로 짚어줍니다. 아이들이 좋아하는 캐릭터와 판타지 스토리텔링을 따라가다 보면 데이터, 조건문, 반복문, 변수 같은 파이썬 기본 개념과 자연스레 친해질 수 있습니다.\\n \\n배운 내용을 응용하고 발전시켜 봐요!\\n앞에서 배운 기본 문법을 응용하여 코딩 문제를 풀어 보고 터틀 라이브러리를 사용해서 멋진 마법진도 그려 봅니다. 딕셔너리, 리스트 등 심화된 내용도 차근차근 따라 한다면 어렵지 않아요!\\n \\n나만의 파이썬 게임을 만들어 봐요!\\n파이게임 라이브러리를 사용하여 나만의 게임을 만들어 봅니다. 캐릭터 상하좌우 이동부터 투명 마법, 몹 등장, 불꽃 공격, 소리 효과 등 게임 제작의 기본적인 과정을 재밌게 실습해 봅니다. \\n \\n 누구를 위한 책인가요?\\n- 블록 코딩을 배우고 처음으로 텍스트 코딩을 배우려는 초등 5~6학년, 중등 1~2학년\\n- 코딩을 쉽게 배우고 싶은 모든 사람\"\n",
      "\t\t},\n",
      "\t\t{\n",
      "\t\t\t\"title\":\"Do it! 게임 10개 만들며 배우는 파이썬 (누구나 이 책으로 파이썬 레벨 업!)\",\n",
      "\t\t\t\"link\":\"https:\\/\\/search.shopping.naver.com\\/book\\/catalog\\/36361929626\",\n",
      "\t\t\t\"image\":\"https:\\/\\/shopping-phinf.pstatic.net\\/main_3636192\\/36361929626.20221213162907.jpg\",\n",
      "\t\t\t\"author\":\"벤 포터^쉬무엘 포터\",\n",
      "\t\t\t\"discount\":\"19800\",\n",
      "\t\t\t\"publisher\":\"이지스퍼블리싱\",\n",
      "\t\t\t\"pubdate\":\"20221215\",\n",
      "\t\t\t\"isbn\":\"9791163034230\",\n",
      "\t\t\t\"description\":\"간단한 게임부터 텍스트 RPG 게임, 그래픽 레이싱 게임까지 완성하며 \\n나의 파이썬 코딩 실력을 레벨 업 해보자\\n\\n동전 던지기나 가위바위보와 같은 간단한 게임부터 그래픽을 이용한 레이싱 게임까지 게임 10가지와 다른 여러 게임을 완성해 보면서 파이썬 문법과 프로그래밍을 배울 수 있습니다. 이 책은 실습 예제 113개를 제공하는 등 이론보다 실습 위주로 구성했습니다. 1~24장까지 프로그램을 완성하는 코드를 작성한 뒤, 하나하나 설명하여 독자들이 파이썬 문법뿐만 아니라 프로그래밍 원리를 자연스럽게 체득할 수 있도록 돕습니다.\\n또한 파이썬 기본 함수와 클래스, 딕셔너리, 라이브러리 등을 소개하고 활용해 볼 수 있도록 했습니다. 단위 테스트, 디버깅, 코드 최적화와 외부화, 리팩터링 등 코드를 관리하는 기술까지 익혀 ‘진짜’ 프로그래머가 되는 길로 안내합니다. \\n\\n이런 게임과 프로그램을 만들 수 있어요!\\nㆍ 채운 단어에 따라 이야기가 만들어지는 단어 채우기 게임을 만들 수 있어요.\\nㆍ 동전 던지기 게임과 주사위 던지기 게임으로 선택이나 무작위 숫자를 얻을 수 있어요. \\nㆍ 생일을 계산해 태어난 요일을 알아맞히는 계산 게임을 만들 수 있어요.\\nㆍ 컴퓨터와 가위! 바위! 보! 대결을 할 수 있어요.\\nㆍ 나만의 게임에서 메시지를 암호화할 수 있어요.  \\nㆍ 스무고개를 하듯 숫자를 맞히는 게임을 만들 수 있어요. \\nㆍ ‘행맨’ 게임으로 알려진 단어 맞히기 게임을 기획부터 개발까지 모두 할 수 있어요. \\nㆍ 우주를 배경으로 한 텍스트 RPG 게임을 만들 수 있어요. \\nㆍ 복잡한 도로에서 마주 오는 다른 차를 피하는 레이싱 게임을 만들 수 있어요. \\nㆍ 그 밖에 내 생일이 얼마나 남았는지 알 수 있는 카운트다운 프로그램, 팁을 계산하기 위한 서비스 팁 계산기, 웹 사이트 비밀번호를 만들기 위한 비밀번호 생성기까지 다양한 프로그램을 만들 수 있어요.\"\n",
      "\t\t},\n",
      "\t\t{\n",
      "\t\t\t\"title\":\"Do it! 점프 투 파이썬 (이미 200만명이 이 책으로 프로그래밍을 시작했다!)\",\n",
      "\t\t\t\"link\":\"https:\\/\\/search.shopping.naver.com\\/book\\/catalog\\/32456895000\",\n",
      "\t\t\t\"image\":\"https:\\/\\/shopping-phinf.pstatic.net\\/main_3245689\\/32456895000.20221019105649.jpg\",\n",
      "\t\t\t\"author\":\"박응용\",\n",
      "\t\t\t\"discount\":\"16920\",\n",
      "\t\t\t\"publisher\":\"이지스퍼블리싱\",\n",
      "\t\t\t\"pubdate\":\"20190620\",\n",
      "\t\t\t\"isbn\":\"9791163030911\",\n",
      "\t\t\t\"description\":\"파이썬 4년 연속 베스트셀러 1위!\\n《Do it! 점프 투 파이썬》 전면 개정판 출시!\\n\\n문과생도 중고등학생도 직장인도 프로그래밍에 눈뜨게 만든 바로 그 책이 전면 개정판으로 새로 태어났다! 2016년 《Do it! 점프 투 파이썬》으로 출간되었던 이 책은 약 4년 동안의 피드백을 반영하여 초보자가 더 빠르게 입문하고, 더 깊이 있게 공부할 수 있도록 개정되었다. 특히 ‘나 혼자 코딩’과 ‘코딩 면허 시험 20제’ 등 독자의 학습 흐름에 맞게 문제를 보강한 점이 눈에 띈다. 실습량도 두 배로 늘었다.\\n\\n4년 동안 압도적 1위! 위키독스 누적 방문 200만! 수많은 대학 및 학원의 교재 채택 등! 검증은 이미 끝났다. 코딩을 처음 배우는 중고등학생부터 나만의 경쟁력이 필요한 문과생, 데이터 분석과 인공지능\\/머신러닝으로 커리어를 뻗어 나가고 싶은 직장인까지! 프로그래밍의 세계에 풍덩 빠져 보자.\"\n",
      "\t\t},\n",
      "\t\t{\n",
      "\t\t\t\"title\":\"파이썬 399 Step (예제로 정복하는 코딩 챌린지)\",\n",
      "\t\t\t\"link\":\"https:\\/\\/search.shopping.naver.com\\/book\\/catalog\\/32462083662\",\n",
      "\t\t\t\"image\":\"https:\\/\\/shopping-phinf.pstatic.net\\/main_3246208\\/32462083662.20221227205116.jpg\",\n",
      "\t\t\t\"author\":\"문혜영\",\n",
      "\t\t\t\"discount\":\"19800\",\n",
      "\t\t\t\"publisher\":\"icox(아이콕스)\",\n",
      "\t\t\t\"pubdate\":\"20220315\",\n",
      "\t\t\t\"isbn\":\"9791164261987\",\n",
      "\t\t\t\"description\":\"프로그래밍을 처음 하는 분들을 위해서 프로그래밍의 기초를 차근차근 이해할 수 있도록 쉽게 구성되어 있다. 기초적인 프로그래밍 언어인 파이썬의 개념을 충분히 이해하고 빈틈없이 학습할 수 있도록 체계적으로 구성하였으며, 코딩의 기초를 익히고 데이터 분석과 함께 딥러닝까지 모두 체험할 수 있도록 구성하였다.\"\n",
      "\t\t}\n",
      "\t]\n",
      "}\n"
     ]
    }
   ],
   "source": [
    "# 네이버 검색 API 예제 - 블로그 검색\n",
    "import os\n",
    "import sys\n",
    "import urllib.request\n",
    "\n",
    "client_id = \"MN34QdwuJuqhm92Q96Tn\"\n",
    "client_secret = \"nkZvvy6MH3\"\n",
    "\n",
    "encText = urllib.parse.quote(\"파이썬\")\n",
    "url = \"https://openapi.naver.com/v1/search/book?query=\" + encText # JSON 결과\n",
    "# url = \"https://openapi.naver.com/v1/search/blog.xml?query=\" + encText # XML 결과\n",
    "request = urllib.request.Request(url)\n",
    "request.add_header(\"X-Naver-Client-Id\",client_id)\n",
    "request.add_header(\"X-Naver-Client-Secret\",client_secret)\n",
    "response = urllib.request.urlopen(request)\n",
    "rescode = response.getcode()\n",
    "if(rescode==200):\n",
    "    response_body = response.read()\n",
    "    print(response_body.decode('utf-8'))\n",
    "else:\n",
    "    print(\"Error Code:\" + rescode)"
   ]
  },
  {
   "cell_type": "markdown",
   "metadata": {},
   "source": [
    "## 검색 : 영화"
   ]
  },
  {
   "cell_type": "code",
   "execution_count": 11,
   "metadata": {},
   "outputs": [
    {
     "name": "stdout",
     "output_type": "stream",
     "text": [
      "{\n",
      "\t\"lastBuildDate\":\"Fri, 30 Dec 2022 17:28:08 +0900\",\n",
      "\t\"total\":1,\n",
      "\t\"start\":1,\n",
      "\t\"display\":1,\n",
      "\t\"items\":[\n",
      "\t\t{\n",
      "\t\t\t\"title\":\"<b>파이썬<\\/b> 앤 가드\",\n",
      "\t\t\t\"link\":\"https:\\/\\/movie.naver.com\\/movie\\/bi\\/mi\\/basic.nhn?code=152070\",\n",
      "\t\t\t\"image\":\"https:\\/\\/ssl.pstatic.net\\/imgmovie\\/mdi\\/mit110\\/1520\\/152070_P01_145336.jpg\",\n",
      "\t\t\t\"subtitle\":\"PYTHON AND GUARD\",\n",
      "\t\t\t\"pubDate\":\"2015\",\n",
      "\t\t\t\"director\":\"안톤 디아코프|\",\n",
      "\t\t\t\"actor\":\"\",\n",
      "\t\t\t\"userRating\":\"0.00\"\n",
      "\t\t}\n",
      "\t]\n",
      "}\n"
     ]
    }
   ],
   "source": [
    "# 네이버 검색 API 예제 - 블로그 검색\n",
    "import os\n",
    "import sys\n",
    "import urllib.request\n",
    "\n",
    "client_id = \"MN34QdwuJuqhm92Q96Tn\"\n",
    "client_secret = \"nkZvvy6MH3\"\n",
    "\n",
    "encText = urllib.parse.quote(\"파이썬\")\n",
    "url = \"https://openapi.naver.com/v1/search/movie?query=\" + encText # JSON 결과\n",
    "# url = \"https://openapi.naver.com/v1/search/blog.xml?query=\" + encText # XML 결과\n",
    "request = urllib.request.Request(url)\n",
    "request.add_header(\"X-Naver-Client-Id\",client_id)\n",
    "request.add_header(\"X-Naver-Client-Secret\",client_secret)\n",
    "response = urllib.request.urlopen(request)\n",
    "rescode = response.getcode()\n",
    "if(rescode==200):\n",
    "    response_body = response.read()\n",
    "    print(response_body.decode('utf-8'))\n",
    "else:\n",
    "    print(\"Error Code:\" + rescode)"
   ]
  },
  {
   "cell_type": "markdown",
   "metadata": {},
   "source": [
    "## 검색 : 카페"
   ]
  },
  {
   "cell_type": "code",
   "execution_count": 12,
   "metadata": {},
   "outputs": [
    {
     "name": "stdout",
     "output_type": "stream",
     "text": [
      "{\n",
      "\t\"lastBuildDate\":\"Fri, 30 Dec 2022 17:28:19 +0900\",\n",
      "\t\"total\":153782,\n",
      "\t\"start\":1,\n",
      "\t\"display\":10,\n",
      "\t\"items\":[\n",
      "\t\t{\n",
      "\t\t\t\"title\":\"<b>파이썬<\\/b> 인강 추천 있을까요?\",\n",
      "\t\t\t\"link\":\"http:\\/\\/cafe.naver.com\\/mathall\\/2541381\",\n",
      "\t\t\t\"description\":\"찾아보니 처음엔 <b>파이썬<\\/b> 많이 하는것 같아서 방학때 인강으로 배워볼까 하는데 검색해봐도 광고위주인것 같아 선택하기 어렵네요. 괜찮은 인강 있으면 추천 부탁드립니다. 혹시 <b>파이썬<\\/b> 이전에 배우면 좋을것도 있을까요?... \",\n",
      "\t\t\t\"cafename\":\"[상위1%카페] 대한민국 상위1% 교육정...\",\n",
      "\t\t\t\"cafeurl\":\"https:\\/\\/cafe.naver.com\\/mathall\"\n",
      "\t\t},\n",
      "\t\t{\n",
      "\t\t\t\"title\":\"<b>파이썬<\\/b> 인강으로 비전공자도 독학 가능! (+윈스펙 직무역량강화캠프)\",\n",
      "\t\t\t\"link\":\"http:\\/\\/cafe.naver.com\\/winspec\\/417139\",\n",
      "\t\t\t\"description\":\"<b>파이썬<\\/b> 인강 <b>파이썬<\\/b> 인강으로 비전공자 독학 <b>파이썬<\\/b> 인강 윈스펙 직무역량강화캠프 안녕하세요 오늘 전해드릴 정보는 <b>파이썬<\\/b> 인강과 관련된 내용입니다. 비전공자이신 분들 중에 프로그래밍 독학을 희망하시는 분들도... \",\n",
      "\t\t\t\"cafename\":\"윈스펙｜자기계발, 내일배움카드, 토익...\",\n",
      "\t\t\t\"cafeurl\":\"https:\\/\\/cafe.naver.com\\/winspec\"\n",
      "\t\t},\n",
      "\t\t{\n",
      "\t\t\t\"title\":\"예비고1 <b>파이썬<\\/b>, c언어 학원이나 과외찾습니다\",\n",
      "\t\t\t\"link\":\"http:\\/\\/cafe.naver.com\\/pkms002\\/33609\",\n",
      "\t\t\t\"description\":\"아이가 과고 입학예정이어서 방학동안 <b>파이썬<\\/b>과 c언어를 좀 배우게 하려합니다. 2년전 <b>파이썬<\\/b>과 c도 아주 조금 배우긴 했는데 안 사용하다보니 거의 잊어버렸다 하더라구요~ 다닐만한 학원이나 과외 알고 싶습니다. 물론... \",\n",
      "\t\t\t\"cafename\":\"수지맹모\",\n",
      "\t\t\t\"cafeurl\":\"https:\\/\\/cafe.naver.com\\/pkms002\"\n",
      "\t\t},\n",
      "\t\t{\n",
      "\t\t\t\"title\":\"대학원 입학 전 <b>파이썬<\\/b> 공부하는법 질문이요!\",\n",
      "\t\t\t\"link\":\"http:\\/\\/cafe.naver.com\\/stathelp\\/47942\",\n",
      "\t\t\t\"description\":\"<b>파이썬<\\/b> 문법(백준 문제풀이 - 초보수준) 및 판다스 정도 공부해본 경험이 있습니다. 물론 지금은 거의 무지 상태입니다ㅠ 그리고 학교 수업에서 몇번씩 머신러닝 코드 복붙해서 실행해보기 정도입니다. 입학 전 <b>파이썬<\\/b>... \",\n",
      "\t\t\t\"cafename\":\"통계와조사나라 (SAS\\/SPSS\\/R\\/Stata\\/마...\",\n",
      "\t\t\t\"cafeurl\":\"https:\\/\\/cafe.naver.com\\/stathelp\"\n",
      "\t\t},\n",
      "\t\t{\n",
      "\t\t\t\"title\":\"️ 코딩하루학원 : 중고등학생 <b>파이썬<\\/b> 방학특강반 모집 ️\",\n",
      "\t\t\t\"link\":\"http:\\/\\/cafe.naver.com\\/sekoymom\\/772834\",\n",
      "\t\t\t\"description\":\"&gt; <b>파이썬<\\/b>을 중고등학생이 배운다는건 어떤 의미가 있나요? 피아노로 따지면 어려운 연습곡을 배우거나 콩쿨에 도전하는것과 같아요! 코딩관련 분야로 진출해도 될지 가능성을 시험하는 의미가 있습니다. <b>파이썬<\\/b>이... \",\n",
      "\t\t\t\"cafename\":\"오산 세교맘 이야기\",\n",
      "\t\t\t\"cafeurl\":\"https:\\/\\/cafe.naver.com\\/sekoymom\"\n",
      "\t\t},\n",
      "\t\t{\n",
      "\t\t\t\"title\":\"김포 코딩과외 기초 장기동 텍스트코딩 자바스크립트 <b>파이썬<\\/b> 전문\",\n",
      "\t\t\t\"link\":\"http:\\/\\/cafe.naver.com\\/kickstudy\\/999733\",\n",
      "\t\t\t\"description\":\"김포 코딩과외 기초 장기동 텍스트코딩 자바스크립트 <b>파이썬<\\/b> 전문 장기동프로그래밍개발 코딩은 미래를... 장기동<b>파이썬<\\/b>알고르즘 장기동자바스크립트 장기동코딩 프로그래밍은 쉽게 말해 컴퓨터와 의사소통 하는... \",\n",
      "\t\t\t\"cafename\":\"수꿈사★수능영어,수학,수시정시,등급...\",\n",
      "\t\t\t\"cafeurl\":\"https:\\/\\/cafe.naver.com\\/kickstudy\"\n",
      "\t\t},\n",
      "\t\t{\n",
      "\t\t\t\"title\":\"<b>파이썬<\\/b> 인강 추천! 독학으로 기초 마스터하기\",\n",
      "\t\t\t\"link\":\"http:\\/\\/cafe.naver.com\\/winspec\\/418963\",\n",
      "\t\t\t\"description\":\"<b>파이썬<\\/b> 인강 <b>파이썬<\\/b> 인강 독학 <b>파이썬<\\/b> 인강 독학 기초 안녕하세요! 요즘,<b>파이썬<\\/b>에 대해서 관심과 수요가 많아지고 계시면서 <b>파이썬<\\/b> 인강으로 <b>파이썬<\\/b>을 독학으로 공부하시는 분들이 많으신데요! 오늘은 그런분들을 위해... \",\n",
      "\t\t\t\"cafename\":\"윈스펙｜자기계발, 내일배움카드, 토익...\",\n",
      "\t\t\t\"cafeurl\":\"https:\\/\\/cafe.naver.com\\/winspec\"\n",
      "\t\t},\n",
      "\t\t{\n",
      "\t\t\t\"title\":\"빅데이터 분석기사 실기 <b>파이썬<\\/b> 인강 추천\",\n",
      "\t\t\t\"link\":\"http:\\/\\/cafe.naver.com\\/sqlpd\\/44468\",\n",
      "\t\t\t\"description\":\"얼마전까지 저는 빅데이터 실기 공부할때 R, <b>파이썬<\\/b> 둘 중 무엇을 할찌 고민을 했지만 오늘로 저는 <b>파이썬<\\/b> 쪽으로 결정하기로 했어요. 현업에서도 R에서 이제는 <b>파이썬<\\/b>으로 넘어가는 추세라는 말을 방금전 제가 아는... \",\n",
      "\t\t\t\"cafename\":\"데이터 전문가 포럼 (빅데이터분석기사...\",\n",
      "\t\t\t\"cafeurl\":\"https:\\/\\/cafe.naver.com\\/sqlpd\"\n",
      "\t\t},\n",
      "\t\t{\n",
      "\t\t\t\"title\":\"카이스트 입학 전 <b>파이썬<\\/b> 수업\",\n",
      "\t\t\t\"link\":\"http:\\/\\/cafe.naver.com\\/kongdae\\/161594\",\n",
      "\t\t\t\"description\":\"찾아보니 카이스트에서 이런 수업들도 겨울방학 때 수강할 수 있도록 프로그램이 있더라구요. C언어만 할 줄 알고 <b>파이썬<\\/b>을 일도 몰라 걱정이었는데, 들을만 할까요? <b>파이썬<\\/b> 공부 방법 추천 부탁드립니다\",\n",
      "\t\t\t\"cafename\":\"[이공계의 별★서울대,KAIST,POSTECH,...\",\n",
      "\t\t\t\"cafeurl\":\"https:\\/\\/cafe.naver.com\\/kongdae\"\n",
      "\t\t},\n",
      "\t\t{\n",
      "\t\t\t\"title\":\"<b>파이썬<\\/b>학원 Python 전공대비 복수전공 자격증 교육\",\n",
      "\t\t\t\"link\":\"http:\\/\\/cafe.naver.com\\/kts9719\\/3366416\",\n",
      "\t\t\t\"description\":\"<b>파이썬<\\/b>학원 Python 전공대비 복수전공 자격증 교육 ★ 대기업 IT회사 출신 복영일 팀장 개인 목적별 전문상담... <b>파이썬<\\/b>학원 Python 전공대비 복수전공 자격증 교육 1. 비전공자 문과 경영학과 \\/ 경제학과 \\/ 등 문과생... \",\n",
      "\t\t\t\"cafename\":\"닥공사★공무원카페,9급공무원,7급,경...\",\n",
      "\t\t\t\"cafeurl\":\"https:\\/\\/cafe.naver.com\\/kts9719\"\n",
      "\t\t}\n",
      "\t]\n",
      "}\n"
     ]
    }
   ],
   "source": [
    "# 네이버 검색 API 예제 - 블로그 검색\n",
    "import os\n",
    "import sys\n",
    "import urllib.request\n",
    "\n",
    "client_id = \"MN34QdwuJuqhm92Q96Tn\"\n",
    "client_secret = \"nkZvvy6MH3\"\n",
    "\n",
    "encText = urllib.parse.quote(\"파이썬\")\n",
    "url = \"https://openapi.naver.com/v1/search/cafearticle?query=\" + encText # JSON 결과\n",
    "# url = \"https://openapi.naver.com/v1/search/blog.xml?query=\" + encText # XML 결과\n",
    "request = urllib.request.Request(url)\n",
    "request.add_header(\"X-Naver-Client-Id\",client_id)\n",
    "request.add_header(\"X-Naver-Client-Secret\",client_secret)\n",
    "response = urllib.request.urlopen(request)\n",
    "rescode = response.getcode()\n",
    "if(rescode==200):\n",
    "    response_body = response.read()\n",
    "    print(response_body.decode('utf-8'))\n",
    "else:\n",
    "    print(\"Error Code:\" + rescode)"
   ]
  },
  {
   "cell_type": "markdown",
   "metadata": {},
   "source": [
    "## 검색 : 쇼핑"
   ]
  },
  {
   "cell_type": "code",
   "execution_count": 13,
   "metadata": {},
   "outputs": [
    {
     "name": "stdout",
     "output_type": "stream",
     "text": [
      "{\n",
      "\t\"lastBuildDate\":\"Fri, 30 Dec 2022 17:28:36 +0900\",\n",
      "\t\"total\":156439,\n",
      "\t\"start\":1,\n",
      "\t\"display\":10,\n",
      "\t\"items\":[\n",
      "\t\t{\n",
      "\t\t\t\"title\":\"멜리데코 여성 오리털 패딩 바지 조거팬츠 기모 방한 등산 골프\",\n",
      "\t\t\t\"link\":\"https:\\/\\/search.shopping.naver.com\\/gate.nhn?id=83597924678\",\n",
      "\t\t\t\"image\":\"https:\\/\\/shopping-phinf.pstatic.net\\/main_8359792\\/83597924678.2.jpg\",\n",
      "\t\t\t\"lprice\":\"35900\",\n",
      "\t\t\t\"hprice\":\"\",\n",
      "\t\t\t\"mallName\":\"멜리데코\",\n",
      "\t\t\t\"productId\":\"83597924678\",\n",
      "\t\t\t\"productType\":\"2\",\n",
      "\t\t\t\"brand\":\"멜리데코\",\n",
      "\t\t\t\"maker\":\"\",\n",
      "\t\t\t\"category1\":\"패션의류\",\n",
      "\t\t\t\"category2\":\"여성의류\",\n",
      "\t\t\t\"category3\":\"바지\",\n",
      "\t\t\t\"category4\":\"\"\n",
      "\t\t},\n",
      "\t\t{\n",
      "\t\t\t\"title\":\"국내제작 미니 반달 투웨이 숄더 크로스 호보백\",\n",
      "\t\t\t\"link\":\"https:\\/\\/search.shopping.naver.com\\/gate.nhn?id=22883016920\",\n",
      "\t\t\t\"image\":\"https:\\/\\/shopping-phinf.pstatic.net\\/main_2288301\\/22883016920.20200517143913.jpg\",\n",
      "\t\t\t\"lprice\":\"16800\",\n",
      "\t\t\t\"hprice\":\"\",\n",
      "\t\t\t\"mallName\":\"네이버\",\n",
      "\t\t\t\"productId\":\"22883016920\",\n",
      "\t\t\t\"productType\":\"1\",\n",
      "\t\t\t\"brand\":\"\",\n",
      "\t\t\t\"maker\":\"\",\n",
      "\t\t\t\"category1\":\"패션잡화\",\n",
      "\t\t\t\"category2\":\"여성가방\",\n",
      "\t\t\t\"category3\":\"크로스백\",\n",
      "\t\t\t\"category4\":\"\"\n",
      "\t\t},\n",
      "\t\t{\n",
      "\t\t\t\"title\":\"A택 2022FW 조거팬츠 에이블앤코 여자 가을 겨울 트레이닝 바지 운동복 홈웨어\",\n",
      "\t\t\t\"link\":\"https:\\/\\/search.shopping.naver.com\\/gate.nhn?id=82803747191\",\n",
      "\t\t\t\"image\":\"https:\\/\\/shopping-phinf.pstatic.net\\/main_8280374\\/82803747191.2.jpg\",\n",
      "\t\t\t\"lprice\":\"20000\",\n",
      "\t\t\t\"hprice\":\"\",\n",
      "\t\t\t\"mallName\":\"무무씨 MUMUSEE\",\n",
      "\t\t\t\"productId\":\"82803747191\",\n",
      "\t\t\t\"productType\":\"2\",\n",
      "\t\t\t\"brand\":\"\",\n",
      "\t\t\t\"maker\":\"\",\n",
      "\t\t\t\"category1\":\"패션의류\",\n",
      "\t\t\t\"category2\":\"여성의류\",\n",
      "\t\t\t\"category3\":\"바지\",\n",
      "\t\t\t\"category4\":\"\"\n",
      "\t\t},\n",
      "\t\t{\n",
      "\t\t\t\"title\":\"잘모이 셀리나 리얼 <b>파이톤<\\/b> 뉴 빅 토트백 ZA-4022\",\n",
      "\t\t\t\"link\":\"https:\\/\\/search.shopping.naver.com\\/gate.nhn?id=35683981989\",\n",
      "\t\t\t\"image\":\"https:\\/\\/shopping-phinf.pstatic.net\\/main_3568398\\/35683981989.20221107081401.jpg\",\n",
      "\t\t\t\"lprice\":\"170710\",\n",
      "\t\t\t\"hprice\":\"\",\n",
      "\t\t\t\"mallName\":\"네이버\",\n",
      "\t\t\t\"productId\":\"35683981989\",\n",
      "\t\t\t\"productType\":\"1\",\n",
      "\t\t\t\"brand\":\"잘모이\",\n",
      "\t\t\t\"maker\":\"\",\n",
      "\t\t\t\"category1\":\"패션잡화\",\n",
      "\t\t\t\"category2\":\"여성가방\",\n",
      "\t\t\t\"category3\":\"토트백\",\n",
      "\t\t\t\"category4\":\"\"\n",
      "\t\t},\n",
      "\t\t{\n",
      "\t\t\t\"title\":\"잘모이 셀리나 리얼 <b>파이톤<\\/b> 빅 토트백 LTZ-5216\",\n",
      "\t\t\t\"link\":\"https:\\/\\/search.shopping.naver.com\\/gate.nhn?id=29022581772\",\n",
      "\t\t\t\"image\":\"https:\\/\\/shopping-phinf.pstatic.net\\/main_2902258\\/29022581772.20210929033957.jpg\",\n",
      "\t\t\t\"lprice\":\"159990\",\n",
      "\t\t\t\"hprice\":\"\",\n",
      "\t\t\t\"mallName\":\"네이버\",\n",
      "\t\t\t\"productId\":\"29022581772\",\n",
      "\t\t\t\"productType\":\"1\",\n",
      "\t\t\t\"brand\":\"잘모이\",\n",
      "\t\t\t\"maker\":\"\",\n",
      "\t\t\t\"category1\":\"패션잡화\",\n",
      "\t\t\t\"category2\":\"여성가방\",\n",
      "\t\t\t\"category3\":\"토트백\",\n",
      "\t\t\t\"category4\":\"\"\n",
      "\t\t},\n",
      "\t\t{\n",
      "\t\t\t\"title\":\"옆단추 일자 골덴 바지\",\n",
      "\t\t\t\"link\":\"https:\\/\\/search.shopping.naver.com\\/gate.nhn?id=85011972095\",\n",
      "\t\t\t\"image\":\"https:\\/\\/shopping-phinf.pstatic.net\\/main_8501197\\/85011972095.1.jpg\",\n",
      "\t\t\t\"lprice\":\"37000\",\n",
      "\t\t\t\"hprice\":\"\",\n",
      "\t\t\t\"mallName\":\"하이영\",\n",
      "\t\t\t\"productId\":\"85011972095\",\n",
      "\t\t\t\"productType\":\"2\",\n",
      "\t\t\t\"brand\":\"\",\n",
      "\t\t\t\"maker\":\"\",\n",
      "\t\t\t\"category1\":\"패션의류\",\n",
      "\t\t\t\"category2\":\"여성의류\",\n",
      "\t\t\t\"category3\":\"바지\",\n",
      "\t\t\t\"category4\":\"\"\n",
      "\t\t},\n",
      "\t\t{\n",
      "\t\t\t\"title\":\"잘모이 베카 리얼 <b>파이톤<\\/b> 미니백 CHK-5223\",\n",
      "\t\t\t\"link\":\"https:\\/\\/search.shopping.naver.com\\/gate.nhn?id=29671444732\",\n",
      "\t\t\t\"image\":\"https:\\/\\/shopping-phinf.pstatic.net\\/main_2967144\\/29671444732.20211113230539.jpg\",\n",
      "\t\t\t\"lprice\":\"45610\",\n",
      "\t\t\t\"hprice\":\"\",\n",
      "\t\t\t\"mallName\":\"네이버\",\n",
      "\t\t\t\"productId\":\"29671444732\",\n",
      "\t\t\t\"productType\":\"1\",\n",
      "\t\t\t\"brand\":\"잘모이\",\n",
      "\t\t\t\"maker\":\"\",\n",
      "\t\t\t\"category1\":\"패션잡화\",\n",
      "\t\t\t\"category2\":\"여성가방\",\n",
      "\t\t\t\"category3\":\"숄더백\",\n",
      "\t\t\t\"category4\":\"\"\n",
      "\t\t},\n",
      "\t\t{\n",
      "\t\t\t\"title\":\"잘모이 538000원 셀리나 리얼 <b>파이톤<\\/b> 뉴 빅 토트백 ZA-4022\",\n",
      "\t\t\t\"link\":\"https:\\/\\/search.shopping.naver.com\\/gate.nhn?id=35708616481\",\n",
      "\t\t\t\"image\":\"https:\\/\\/shopping-phinf.pstatic.net\\/main_3570861\\/35708616481.20221108125601.jpg\",\n",
      "\t\t\t\"lprice\":\"169090\",\n",
      "\t\t\t\"hprice\":\"\",\n",
      "\t\t\t\"mallName\":\"네이버\",\n",
      "\t\t\t\"productId\":\"35708616481\",\n",
      "\t\t\t\"productType\":\"1\",\n",
      "\t\t\t\"brand\":\"잘모이\",\n",
      "\t\t\t\"maker\":\"\",\n",
      "\t\t\t\"category1\":\"패션잡화\",\n",
      "\t\t\t\"category2\":\"여성가방\",\n",
      "\t\t\t\"category3\":\"토트백\",\n",
      "\t\t\t\"category4\":\"\"\n",
      "\t\t},\n",
      "\t\t{\n",
      "\t\t\t\"title\":\"잘모이 셀리나 리얼 <b>파이톤<\\/b> 미니 토트백 ZA-4023\",\n",
      "\t\t\t\"link\":\"https:\\/\\/search.shopping.naver.com\\/gate.nhn?id=36054367842\",\n",
      "\t\t\t\"image\":\"https:\\/\\/shopping-phinf.pstatic.net\\/main_3605436\\/36054367842.20221124042000.jpg\",\n",
      "\t\t\t\"lprice\":\"119550\",\n",
      "\t\t\t\"hprice\":\"\",\n",
      "\t\t\t\"mallName\":\"네이버\",\n",
      "\t\t\t\"productId\":\"36054367842\",\n",
      "\t\t\t\"productType\":\"1\",\n",
      "\t\t\t\"brand\":\"잘모이\",\n",
      "\t\t\t\"maker\":\"\",\n",
      "\t\t\t\"category1\":\"패션잡화\",\n",
      "\t\t\t\"category2\":\"여성가방\",\n",
      "\t\t\t\"category3\":\"토트백\",\n",
      "\t\t\t\"category4\":\"\"\n",
      "\t\t},\n",
      "\t\t{\n",
      "\t\t\t\"title\":\"방송에서만 10만원 잘모이 리얼 <b>파이톤<\\/b> 엘레나 플랩백\",\n",
      "\t\t\t\"link\":\"https:\\/\\/search.shopping.naver.com\\/gate.nhn?id=34672541979\",\n",
      "\t\t\t\"image\":\"https:\\/\\/shopping-phinf.pstatic.net\\/main_3467254\\/34672541979.20220914131221.jpg\",\n",
      "\t\t\t\"lprice\":\"68640\",\n",
      "\t\t\t\"hprice\":\"\",\n",
      "\t\t\t\"mallName\":\"네이버\",\n",
      "\t\t\t\"productId\":\"34672541979\",\n",
      "\t\t\t\"productType\":\"1\",\n",
      "\t\t\t\"brand\":\"잘모이\",\n",
      "\t\t\t\"maker\":\"\",\n",
      "\t\t\t\"category1\":\"패션잡화\",\n",
      "\t\t\t\"category2\":\"여성가방\",\n",
      "\t\t\t\"category3\":\"숄더백\",\n",
      "\t\t\t\"category4\":\"\"\n",
      "\t\t}\n",
      "\t]\n",
      "}\n"
     ]
    }
   ],
   "source": [
    "# 네이버 검색 API 예제 - 블로그 검색\n",
    "import os\n",
    "import sys\n",
    "import urllib.request\n",
    "\n",
    "client_id = \"MN34QdwuJuqhm92Q96Tn\"\n",
    "client_secret = \"nkZvvy6MH3\"\n",
    "\n",
    "encText = urllib.parse.quote(\"파이썬\")\n",
    "url = \"https://openapi.naver.com/v1/search/shop?query=\" + encText # JSON 결과\n",
    "# url = \"https://openapi.naver.com/v1/search/blog.xml?query=\" + encText # XML 결과\n",
    "request = urllib.request.Request(url)\n",
    "request.add_header(\"X-Naver-Client-Id\",client_id)\n",
    "request.add_header(\"X-Naver-Client-Secret\",client_secret)\n",
    "response = urllib.request.urlopen(request)\n",
    "rescode = response.getcode()\n",
    "if(rescode==200):\n",
    "    response_body = response.read()\n",
    "    print(response_body.decode('utf-8'))\n",
    "else:\n",
    "    print(\"Error Code:\" + rescode)"
   ]
  },
  {
   "attachments": {},
   "cell_type": "markdown",
   "metadata": {},
   "source": [
    "## 검색 : 백과사전"
   ]
  },
  {
   "cell_type": "code",
   "execution_count": 14,
   "metadata": {},
   "outputs": [
    {
     "name": "stdout",
     "output_type": "stream",
     "text": [
      "{\n",
      "\t\"lastBuildDate\":\"Fri, 30 Dec 2022 17:28:54 +0900\",\n",
      "\t\"total\":521,\n",
      "\t\"start\":1,\n",
      "\t\"display\":10,\n",
      "\t\"items\":[\n",
      "\t\t{\n",
      "\t\t\t\"title\":\"<b>파이썬<\\/b>\",\n",
      "\t\t\t\"link\":\"https:\\/\\/terms.naver.com\\/entry.naver?docId=3580815&cid=59088&categoryId=59096\",\n",
      "\t\t\t\"description\":\"‘<b>파이썬<\\/b>’이다. 간결한 문법으로 입문자가 이해하기 쉽고, 다양한 분야에 활용할 수 있기 때문이다. 이 외에도 <b>파이썬<\\/b>은 머신러닝, 그래픽, 웹 개발 등 여러 업계에서 선호하는 언어로 꾸준히... \",\n",
      "\t\t\t\"thumbnail\":\"http:\\/\\/openapi-dbscthumb.phinf.naver.net\\/4749_000_1\\/20170118193349632_0CHSSS5Y6.png\\/01_16.png?type=m160_160\"\n",
      "\t\t},\n",
      "\t\t{\n",
      "\t\t\t\"title\":\"<b>파이썬<\\/b>\",\n",
      "\t\t\t\"link\":\"https:\\/\\/terms.naver.com\\/entry.naver?docId=3607513&cid=58598&categoryId=59316\",\n",
      "\t\t\t\"description\":\" 컴퓨터 언어의 일종으로 간결하고 생산성 높은 프로그래밍 언어.  <b>파이썬<\\/b>(python)은 프로그램을 설계하는 프로그래밍 언어 중 하나입니다. 컴퓨터는 0과 1을(이진수) 인식하여 작동하기 때문에 과거에는... \",\n",
      "\t\t\t\"thumbnail\":\"http:\\/\\/openapi-dbscthumb.phinf.naver.net\\/4751_000_3\\/20170710213206672_OPHLG2VOW.jpg\\/992_170575_10034.jpg?type=m160_160\"\n",
      "\t\t},\n",
      "\t\t{\n",
      "\t\t\t\"title\":\"<b>파이썬<\\/b>\",\n",
      "\t\t\t\"link\":\"https:\\/\\/terms.naver.com\\/entry.naver?docId=3533295&cid=40942&categoryId=32838\",\n",
      "\t\t\t\"description\":\" 오픈소스 고급 프로그래밍 언어 중 하나이다.  C언어를 기반으로 한 오픈소스 고급 프로그래밍 언어로, 1991년 귀도 반 로섬(Guido van Rossum)에 의해 설계 및 개발되었다. <b>파이썬<\\/b>이라는 이름은 <b>파이썬<\\/b>을... \",\n",
      "\t\t\t\"thumbnail\":\"\"\n",
      "\t\t},\n",
      "\t\t{\n",
      "\t\t\t\"title\":\"<b>파이썬<\\/b>\",\n",
      "\t\t\t\"link\":\"https:\\/\\/ko.wikipedia.org\\/wiki\\/%ED%8C%8C%EC%9D%B4%EC%8D%AC\",\n",
      "\t\t\t\"description\":\"<b>파이썬<\\/b> ( 영어: Python )은 1991년 네덜란드계 소프트웨어 엔지니어인 귀도 반 로섬이 발표한 고급 프로그래밍 언어로, 플랫폼에 독립적이며 인터프리터식, 객체지향적, 동적 타이핑(dynamically typed)... \",\n",
      "\t\t\t\"thumbnail\":\"\"\n",
      "\t\t},\n",
      "\t\t{\n",
      "\t\t\t\"title\":\"C<b>파이썬<\\/b>\",\n",
      "\t\t\t\"link\":\"https:\\/\\/ko.wikipedia.org\\/wiki\\/C%ED%8C%8C%EC%9D%B4%EC%8D%AC\",\n",
      "\t\t\t\"description\":\"C<b>파이썬<\\/b> (CPython)은 <b>파이썬<\\/b> 프로그래밍 언어의 참조 구현체이다. C와 <b>파이썬<\\/b>으로 작성된 C<b>파이썬<\\/b>은 이 언어에 가장 널리 사용되는 기본 구현체이다. C<b>파이썬<\\/b>은 인터프리트 과정 이전에 <b>파이썬<\\/b> 코드를... \",\n",
      "\t\t\t\"thumbnail\":\"\"\n",
      "\t\t},\n",
      "\t\t{\n",
      "\t\t\t\"title\":\"바이오<b>파이썬<\\/b>\",\n",
      "\t\t\t\"link\":\"https:\\/\\/ko.wikipedia.org\\/wiki\\/%EB%B0%94%EC%9D%B4%EC%98%A4%ED%8C%8C%EC%9D%B4%EC%8D%AC\",\n",
      "\t\t\t\"description\":\"바이오<b>파이썬<\\/b> (Biopython) 프로젝트는 분자생물학 계산에 자유롭게 사용하기 위한 <b>파이썬<\\/b> 라이브러리 구축 프로젝트이다. 같이 보기 바이오자바 바이오펄 외부 링크 biopython.org\",\n",
      "\t\t\t\"thumbnail\":\"\"\n",
      "\t\t},\n",
      "\t\t{\n",
      "\t\t\t\"title\":\"<b>파이썬<\\/b>애니웨어\",\n",
      "\t\t\t\"link\":\"https:\\/\\/ko.wikipedia.org\\/wiki\\/%ED%8C%8C%EC%9D%B4%EC%8D%AC%EC%95%A0%EB%8B%88%EC%9B%A8%EC%96%B4\",\n",
      "\t\t\t\"description\":\"<b>파이썬<\\/b>애니웨어 (PythonAnywhere)는 <b>파이썬<\\/b> 프로그래밍 언어 기반의 웹 호스팅 서비스(서비스형 플랫폼)이자 온라인 통합 개발 환경이다. 2012년에 Giles Thomas와 Robert Smithson이 설립했으며 서버... \",\n",
      "\t\t\t\"thumbnail\":\"\"\n",
      "\t\t},\n",
      "\t\t{\n",
      "\t\t\t\"title\":\"<b>파이썬<\\/b>의 역사\",\n",
      "\t\t\t\"link\":\"https:\\/\\/ko.wikipedia.org\\/wiki\\/%ED%8C%8C%EC%9D%B4%EC%8D%AC%EC%9D%98_%EC%97%AD%EC%82%AC\",\n",
      "\t\t\t\"description\":\"프로그래밍 언어 <b>파이썬<\\/b>은 1980년대 말에 구상되었으며 그 구현체는 1989년 12월 예외 처리가 가능하고 아메바 운영 체제와 통신이 가능한 ABC의 후속 프로그래밍 언어로서 CWI(Centrum Wiskunde... \",\n",
      "\t\t\t\"thumbnail\":\"\"\n",
      "\t\t},\n",
      "\t\t{\n",
      "\t\t\t\"title\":\"아나콘다 (<b>파이썬<\\/b> 배포판)\",\n",
      "\t\t\t\"link\":\"https:\\/\\/ko.wikipedia.org\\/wiki\\/%EC%95%84%EB%82%98%EC%BD%98%EB%8B%A4_(%ED%8C%8C%EC%9D%B4%EC%8D%AC_%EB%B0%B0%ED%8F%AC%ED%8C%90)\",\n",
      "\t\t\t\"description\":\"아나콘다 (Anaconda)는 패키지 관리와 디플로이를 단순케 할 목적으로 과학 계산(데이터 과학, 기계 학습 애플리케이션, 대규모 데이터 처리, 예측 분석 등)을 위한 <b>파이썬<\\/b>과 R 프로그래밍 언어의 자유... \",\n",
      "\t\t\t\"thumbnail\":\"\"\n",
      "\t\t},\n",
      "\t\t{\n",
      "\t\t\t\"title\":\"<b>파이썬<\\/b> 소프트웨어 재단\",\n",
      "\t\t\t\"link\":\"https:\\/\\/ko.wikipedia.org\\/wiki\\/%ED%8C%8C%EC%9D%B4%EC%8D%AC_%EC%86%8C%ED%94%84%ED%8A%B8%EC%9B%A8%EC%96%B4_%EC%9E%AC%EB%8B%A8\",\n",
      "\t\t\t\"description\":\"<b>파이썬<\\/b> 소프트웨어 재단 (Python Software Foundation, PSF)은 <b>파이썬<\\/b> 프로그래밍 언어에 헌신하는 비영리 단체로서, 2001년 3월 6일 런칭했다. 이 단체의 임무는 <b>파이썬<\\/b> 공동체의 개발을 발전시키고... \",\n",
      "\t\t\t\"thumbnail\":\"\"\n",
      "\t\t}\n",
      "\t]\n",
      "}\n"
     ]
    }
   ],
   "source": [
    "# 네이버 검색 API 예제 - 블로그 검색\n",
    "import os\n",
    "import sys\n",
    "import urllib.request\n",
    "\n",
    "client_id = \"MN34QdwuJuqhm92Q96Tn\"\n",
    "client_secret = \"nkZvvy6MH3\"\n",
    "\n",
    "encText = urllib.parse.quote(\"파이썬\")\n",
    "url = \"https://openapi.naver.com/v1/search/encyc?query=\" + encText # JSON 결과\n",
    "# url = \"https://openapi.naver.com/v1/search/blog.xml?query=\" + encText # XML 결과\n",
    "request = urllib.request.Request(url)\n",
    "request.add_header(\"X-Naver-Client-Id\",client_id)\n",
    "request.add_header(\"X-Naver-Client-Secret\",client_secret)\n",
    "response = urllib.request.urlopen(request)\n",
    "rescode = response.getcode()\n",
    "if(rescode==200):\n",
    "    response_body = response.read()\n",
    "    print(response_body.decode('utf-8'))\n",
    "else:\n",
    "    print(\"Error Code:\" + rescode)"
   ]
  },
  {
   "cell_type": "markdown",
   "metadata": {},
   "source": [
    "## 3. 상품검색\n",
    "- 몰스킨"
   ]
  },
  {
   "cell_type": "code",
   "execution_count": 15,
   "metadata": {},
   "outputs": [
    {
     "name": "stdout",
     "output_type": "stream",
     "text": [
      "{\n",
      "\t\"lastBuildDate\":\"Fri, 30 Dec 2022 17:45:31 +0900\",\n",
      "\t\"total\":39294,\n",
      "\t\"start\":1,\n",
      "\t\"display\":10,\n",
      "\t\"items\":[\n",
      "\t\t{\n",
      "\t\t\t\"title\":\"<b>몰스킨<\\/b> 2023 다이어리 위클리 다이어리 라지\",\n",
      "\t\t\t\"link\":\"https:\\/\\/search.shopping.naver.com\\/gate.nhn?id=84662525433\",\n",
      "\t\t\t\"image\":\"https:\\/\\/shopping-phinf.pstatic.net\\/main_8466252\\/84662525433.2.jpg\",\n",
      "\t\t\t\"lprice\":\"31450\",\n",
      "\t\t\t\"hprice\":\"\",\n",
      "\t\t\t\"mallName\":\"베스트펜\",\n",
      "\t\t\t\"productId\":\"84662525433\",\n",
      "\t\t\t\"productType\":\"2\",\n",
      "\t\t\t\"brand\":\"몰스킨\",\n",
      "\t\t\t\"maker\":\"\",\n",
      "\t\t\t\"category1\":\"생활\\/건강\",\n",
      "\t\t\t\"category2\":\"문구\\/사무용품\",\n",
      "\t\t\t\"category3\":\"다이어리\\/플래너\",\n",
      "\t\t\t\"category4\":\"다이어리\"\n",
      "\t\t},\n",
      "\t\t{\n",
      "\t\t\t\"title\":\"<b>몰스킨<\\/b> 2023 데일리 12개월 다이어리 L\",\n",
      "\t\t\t\"link\":\"https:\\/\\/search.shopping.naver.com\\/gate.nhn?id=34543729266\",\n",
      "\t\t\t\"image\":\"https:\\/\\/shopping-phinf.pstatic.net\\/main_3454372\\/34543729266.20221215032512.jpg\",\n",
      "\t\t\t\"lprice\":\"33150\",\n",
      "\t\t\t\"hprice\":\"\",\n",
      "\t\t\t\"mallName\":\"네이버\",\n",
      "\t\t\t\"productId\":\"34543729266\",\n",
      "\t\t\t\"productType\":\"1\",\n",
      "\t\t\t\"brand\":\"몰스킨\",\n",
      "\t\t\t\"maker\":\"몰스킨\",\n",
      "\t\t\t\"category1\":\"생활\\/건강\",\n",
      "\t\t\t\"category2\":\"문구\\/사무용품\",\n",
      "\t\t\t\"category3\":\"다이어리\\/플래너\",\n",
      "\t\t\t\"category4\":\"다이어리\"\n",
      "\t\t},\n",
      "\t\t{\n",
      "\t\t\t\"title\":\"다니엘크레뮤 22FW 헤비 코튼 <b>몰스킨<\\/b> 팬츠 3종\",\n",
      "\t\t\t\"link\":\"https:\\/\\/search.shopping.naver.com\\/gate.nhn?id=35297774696\",\n",
      "\t\t\t\"image\":\"https:\\/\\/shopping-phinf.pstatic.net\\/main_3529777\\/35297774696.20221018121155.jpg\",\n",
      "\t\t\t\"lprice\":\"91580\",\n",
      "\t\t\t\"hprice\":\"\",\n",
      "\t\t\t\"mallName\":\"네이버\",\n",
      "\t\t\t\"productId\":\"35297774696\",\n",
      "\t\t\t\"productType\":\"1\",\n",
      "\t\t\t\"brand\":\"다니엘크레뮤\",\n",
      "\t\t\t\"maker\":\"\",\n",
      "\t\t\t\"category1\":\"패션의류\",\n",
      "\t\t\t\"category2\":\"남성의류\",\n",
      "\t\t\t\"category3\":\"바지\",\n",
      "\t\t\t\"category4\":\"\"\n",
      "\t\t},\n",
      "\t\t{\n",
      "\t\t\t\"title\":\"<b>몰스킨<\\/b> 2023 앨리스 위클리 다이어리 하드커버 상품선택\",\n",
      "\t\t\t\"link\":\"https:\\/\\/search.shopping.naver.com\\/gate.nhn?id=34585992609\",\n",
      "\t\t\t\"image\":\"https:\\/\\/shopping-phinf.pstatic.net\\/main_3458599\\/34585992609.20220910042113.jpg\",\n",
      "\t\t\t\"lprice\":\"34000\",\n",
      "\t\t\t\"hprice\":\"\",\n",
      "\t\t\t\"mallName\":\"네이버\",\n",
      "\t\t\t\"productId\":\"34585992609\",\n",
      "\t\t\t\"productType\":\"1\",\n",
      "\t\t\t\"brand\":\"몰스킨\",\n",
      "\t\t\t\"maker\":\"\",\n",
      "\t\t\t\"category1\":\"생활\\/건강\",\n",
      "\t\t\t\"category2\":\"문구\\/사무용품\",\n",
      "\t\t\t\"category3\":\"다이어리\\/플래너\",\n",
      "\t\t\t\"category4\":\"다이어리\"\n",
      "\t\t},\n",
      "\t\t{\n",
      "\t\t\t\"title\":\"<b>몰스킨<\\/b> 노트 가죽 하드커버 감성 고급 업무용 이쁜 심플\",\n",
      "\t\t\t\"link\":\"https:\\/\\/search.shopping.naver.com\\/gate.nhn?id=82526953942\",\n",
      "\t\t\t\"image\":\"https:\\/\\/shopping-phinf.pstatic.net\\/main_8252695\\/82526953942.7.jpg\",\n",
      "\t\t\t\"lprice\":\"24000\",\n",
      "\t\t\t\"hprice\":\"\",\n",
      "\t\t\t\"mallName\":\"베스트펜\",\n",
      "\t\t\t\"productId\":\"82526953942\",\n",
      "\t\t\t\"productType\":\"2\",\n",
      "\t\t\t\"brand\":\"몰스킨\",\n",
      "\t\t\t\"maker\":\"\",\n",
      "\t\t\t\"category1\":\"생활\\/건강\",\n",
      "\t\t\t\"category2\":\"문구\\/사무용품\",\n",
      "\t\t\t\"category3\":\"노트\\/수첩\",\n",
      "\t\t\t\"category4\":\"노트\"\n",
      "\t\t},\n",
      "\t\t{\n",
      "\t\t\t\"title\":\"[<b>몰스킨<\\/b>] 2023년 클래식 다이어리(12개월) (데일리, 위클리, 먼슬리)\",\n",
      "\t\t\t\"link\":\"https:\\/\\/search.shopping.naver.com\\/gate.nhn?id=34373302556\",\n",
      "\t\t\t\"image\":\"https:\\/\\/shopping-phinf.pstatic.net\\/main_3437330\\/34373302556.jpg\",\n",
      "\t\t\t\"lprice\":\"22950\",\n",
      "\t\t\t\"hprice\":\"\",\n",
      "\t\t\t\"mallName\":\"몰스킨공식온라인스토어\",\n",
      "\t\t\t\"productId\":\"34373302556\",\n",
      "\t\t\t\"productType\":\"2\",\n",
      "\t\t\t\"brand\":\"몰스킨\",\n",
      "\t\t\t\"maker\":\"\",\n",
      "\t\t\t\"category1\":\"생활\\/건강\",\n",
      "\t\t\t\"category2\":\"문구\\/사무용품\",\n",
      "\t\t\t\"category3\":\"다이어리\\/플래너\",\n",
      "\t\t\t\"category4\":\"다이어리\"\n",
      "\t\t},\n",
      "\t\t{\n",
      "\t\t\t\"title\":\"스타벅스 2023 다이어리 <b>몰스킨<\\/b> 플래너 데일리 카페 겨울 윈터 e프리퀀시\",\n",
      "\t\t\t\"link\":\"https:\\/\\/search.shopping.naver.com\\/gate.nhn?id=85132568687\",\n",
      "\t\t\t\"image\":\"https:\\/\\/shopping-phinf.pstatic.net\\/main_8513256\\/85132568687.25.jpg\",\n",
      "\t\t\t\"lprice\":\"30000\",\n",
      "\t\t\t\"hprice\":\"\",\n",
      "\t\t\t\"mallName\":\"유니스의마켓\",\n",
      "\t\t\t\"productId\":\"85132568687\",\n",
      "\t\t\t\"productType\":\"2\",\n",
      "\t\t\t\"brand\":\"스타벅스\",\n",
      "\t\t\t\"maker\":\"몰스킨\",\n",
      "\t\t\t\"category1\":\"생활\\/건강\",\n",
      "\t\t\t\"category2\":\"문구\\/사무용품\",\n",
      "\t\t\t\"category3\":\"다이어리\\/플래너\",\n",
      "\t\t\t\"category4\":\"다이어리\"\n",
      "\t\t},\n",
      "\t\t{\n",
      "\t\t\t\"title\":\"<b>몰스킨<\\/b> 무료각인 하드 2023 위클리 노트북형 사파이어블루-라지\",\n",
      "\t\t\t\"link\":\"https:\\/\\/search.shopping.naver.com\\/gate.nhn?id=35386229109\",\n",
      "\t\t\t\"image\":\"https:\\/\\/shopping-phinf.pstatic.net\\/main_3538622\\/35386229109.20221022160215.jpg\",\n",
      "\t\t\t\"lprice\":\"30969\",\n",
      "\t\t\t\"hprice\":\"\",\n",
      "\t\t\t\"mallName\":\"네이버\",\n",
      "\t\t\t\"productId\":\"35386229109\",\n",
      "\t\t\t\"productType\":\"1\",\n",
      "\t\t\t\"brand\":\"몰스킨\",\n",
      "\t\t\t\"maker\":\"몰스킨\",\n",
      "\t\t\t\"category1\":\"생활\\/건강\",\n",
      "\t\t\t\"category2\":\"문구\\/사무용품\",\n",
      "\t\t\t\"category3\":\"다이어리\\/플래너\",\n",
      "\t\t\t\"category4\":\"다이어리\"\n",
      "\t\t},\n",
      "\t\t{\n",
      "\t\t\t\"title\":\"<b>몰스킨<\\/b> 2023 라이프 스파이럴 다이어리 하드커버 상품선택\",\n",
      "\t\t\t\"link\":\"https:\\/\\/search.shopping.naver.com\\/gate.nhn?id=35474053613\",\n",
      "\t\t\t\"image\":\"https:\\/\\/shopping-phinf.pstatic.net\\/main_3547405\\/35474053613.20221027092919.jpg\",\n",
      "\t\t\t\"lprice\":\"35700\",\n",
      "\t\t\t\"hprice\":\"\",\n",
      "\t\t\t\"mallName\":\"네이버\",\n",
      "\t\t\t\"productId\":\"35474053613\",\n",
      "\t\t\t\"productType\":\"1\",\n",
      "\t\t\t\"brand\":\"몰스킨\",\n",
      "\t\t\t\"maker\":\"몰스킨\",\n",
      "\t\t\t\"category1\":\"생활\\/건강\",\n",
      "\t\t\t\"category2\":\"문구\\/사무용품\",\n",
      "\t\t\t\"category3\":\"다이어리\\/플래너\",\n",
      "\t\t\t\"category4\":\"다이어리\"\n",
      "\t\t},\n",
      "\t\t{\n",
      "\t\t\t\"title\":\"<b>몰스킨<\\/b> 무료각인 소프트2023 먼슬리-포켓\",\n",
      "\t\t\t\"link\":\"https:\\/\\/search.shopping.naver.com\\/gate.nhn?id=36053973449\",\n",
      "\t\t\t\"image\":\"https:\\/\\/shopping-phinf.pstatic.net\\/main_3605397\\/36053973449.20221124040232.jpg\",\n",
      "\t\t\t\"lprice\":\"22850\",\n",
      "\t\t\t\"hprice\":\"\",\n",
      "\t\t\t\"mallName\":\"네이버\",\n",
      "\t\t\t\"productId\":\"36053973449\",\n",
      "\t\t\t\"productType\":\"1\",\n",
      "\t\t\t\"brand\":\"몰스킨\",\n",
      "\t\t\t\"maker\":\"몰스킨\",\n",
      "\t\t\t\"category1\":\"생활\\/건강\",\n",
      "\t\t\t\"category2\":\"문구\\/사무용품\",\n",
      "\t\t\t\"category3\":\"다이어리\\/플래너\",\n",
      "\t\t\t\"category4\":\"다이어리\"\n",
      "\t\t}\n",
      "\t]\n",
      "}\n"
     ]
    }
   ],
   "source": [
    "# 네이버 검색 API 예제 - 블로그 검색\n",
    "import os\n",
    "import sys\n",
    "import urllib.request\n",
    "\n",
    "client_id = \"MN34QdwuJuqhm92Q96Tn\"\n",
    "client_secret = \"nkZvvy6MH3\"\n",
    "\n",
    "encText = urllib.parse.quote(\"몰스킨\")\n",
    "url = \"https://openapi.naver.com/v1/search/shop?query=\" + encText # JSON 결과\n",
    "# url = \"https://openapi.naver.com/v1/search/blog.xml?query=\" + encText # XML 결과\n",
    "request = urllib.request.Request(url)\n",
    "request.add_header(\"X-Naver-Client-Id\",client_id)\n",
    "request.add_header(\"X-Naver-Client-Secret\",client_secret)\n",
    "response = urllib.request.urlopen(request)\n",
    "rescode = response.getcode()\n",
    "if(rescode==200):\n",
    "    response_body = response.read()\n",
    "    print(response_body.decode('utf-8'))\n",
    "else:\n",
    "    print(\"Error Code:\" + rescode)"
   ]
  },
  {
   "cell_type": "markdown",
   "metadata": {},
   "source": [
    "## (1) gen_search_url()"
   ]
  },
  {
   "cell_type": "code",
   "execution_count": 31,
   "metadata": {},
   "outputs": [],
   "source": [
    "def gen_search_url(api_node, search_text, start_num, disp_num):\n",
    "    base = 'https://openapi.naver.com/v1/search'\n",
    "    node = '/' + api_node + '.json'\n",
    "    param_query = '?query=' + urllib.parse.quote(search_text)\n",
    "    param_start = '&start=' + str(start_num)\n",
    "    param_disp = '&display=' + str(disp_num)\n",
    "\n",
    "    return base+node+param_query+param_start+param_disp"
   ]
  },
  {
   "cell_type": "code",
   "execution_count": 32,
   "metadata": {},
   "outputs": [
    {
     "data": {
      "text/plain": [
       "'https://openapi.naver.com/v1/search/shop.json?query=TEST&start=10&display=3'"
      ]
     },
     "execution_count": 32,
     "metadata": {},
     "output_type": "execute_result"
    }
   ],
   "source": [
    "gen_search_url('shop','TEST',10,3)"
   ]
  },
  {
   "attachments": {},
   "cell_type": "markdown",
   "metadata": {},
   "source": [
    "## (2) get_result_onpage()"
   ]
  },
  {
   "cell_type": "code",
   "execution_count": 33,
   "metadata": {},
   "outputs": [],
   "source": [
    "import json\n",
    "import datetime\n",
    "\n",
    "def get_result_onpage(url):\n",
    "    request = urllib.request.Request(url)\n",
    "    request.add_header(\"X-Naver-Client-Id\",client_id)\n",
    "    request.add_header(\"X-Naver-Client-Secret\",client_secret)\n",
    "    response = urllib.request.urlopen(request)\n",
    "    print('[%s] Url Request Success' % datetime.datetime.now())\n",
    "    return json.loads(response.read().decode('utf-8'))"
   ]
  },
  {
   "cell_type": "code",
   "execution_count": 20,
   "metadata": {},
   "outputs": [
    {
     "data": {
      "text/plain": [
       "datetime.datetime(2022, 12, 30, 17, 54, 34, 180653)"
      ]
     },
     "execution_count": 20,
     "metadata": {},
     "output_type": "execute_result"
    }
   ],
   "source": [
    "datetime.datetime.now()"
   ]
  },
  {
   "cell_type": "code",
   "execution_count": 34,
   "metadata": {},
   "outputs": [
    {
     "name": "stdout",
     "output_type": "stream",
     "text": [
      "[2022-12-30 17:59:15.704464] Url Request Success\n"
     ]
    }
   ],
   "source": [
    "url = gen_search_url('shop','몰스킨',1,5)\n",
    "one_result = get_result_onpage(url)"
   ]
  },
  {
   "cell_type": "code",
   "execution_count": 22,
   "metadata": {},
   "outputs": [
    {
     "data": {
      "text/plain": [
       "{'lastBuildDate': 'Fri, 30 Dec 2022 17:55:29 +0900',\n",
       " 'total': 39297,\n",
       " 'start': 1,\n",
       " 'display': 10,\n",
       " 'items': [{'title': '<b>몰스킨</b> 2023 다이어리 위클리 다이어리 라지',\n",
       "   'link': 'https://search.shopping.naver.com/gate.nhn?id=84662525433',\n",
       "   'image': 'https://shopping-phinf.pstatic.net/main_8466252/84662525433.2.jpg',\n",
       "   'lprice': '31450',\n",
       "   'hprice': '',\n",
       "   'mallName': '베스트펜',\n",
       "   'productId': '84662525433',\n",
       "   'productType': '2',\n",
       "   'brand': '몰스킨',\n",
       "   'maker': '',\n",
       "   'category1': '생활/건강',\n",
       "   'category2': '문구/사무용품',\n",
       "   'category3': '다이어리/플래너',\n",
       "   'category4': '다이어리'},\n",
       "  {'title': '<b>몰스킨</b> 2023 데일리 12개월 다이어리 L',\n",
       "   'link': 'https://search.shopping.naver.com/gate.nhn?id=34543729266',\n",
       "   'image': 'https://shopping-phinf.pstatic.net/main_3454372/34543729266.20221215032512.jpg',\n",
       "   'lprice': '33150',\n",
       "   'hprice': '',\n",
       "   'mallName': '네이버',\n",
       "   'productId': '34543729266',\n",
       "   'productType': '1',\n",
       "   'brand': '몰스킨',\n",
       "   'maker': '몰스킨',\n",
       "   'category1': '생활/건강',\n",
       "   'category2': '문구/사무용품',\n",
       "   'category3': '다이어리/플래너',\n",
       "   'category4': '다이어리'},\n",
       "  {'title': '다니엘크레뮤 22FW 헤비 코튼 <b>몰스킨</b> 팬츠 3종',\n",
       "   'link': 'https://search.shopping.naver.com/gate.nhn?id=35297774696',\n",
       "   'image': 'https://shopping-phinf.pstatic.net/main_3529777/35297774696.20221018121155.jpg',\n",
       "   'lprice': '91580',\n",
       "   'hprice': '',\n",
       "   'mallName': '네이버',\n",
       "   'productId': '35297774696',\n",
       "   'productType': '1',\n",
       "   'brand': '다니엘크레뮤',\n",
       "   'maker': '',\n",
       "   'category1': '패션의류',\n",
       "   'category2': '남성의류',\n",
       "   'category3': '바지',\n",
       "   'category4': ''},\n",
       "  {'title': '<b>몰스킨</b> 2023 앨리스 위클리 다이어리 하드커버 상품선택',\n",
       "   'link': 'https://search.shopping.naver.com/gate.nhn?id=34585992609',\n",
       "   'image': 'https://shopping-phinf.pstatic.net/main_3458599/34585992609.20220910042113.jpg',\n",
       "   'lprice': '34000',\n",
       "   'hprice': '',\n",
       "   'mallName': '네이버',\n",
       "   'productId': '34585992609',\n",
       "   'productType': '1',\n",
       "   'brand': '몰스킨',\n",
       "   'maker': '',\n",
       "   'category1': '생활/건강',\n",
       "   'category2': '문구/사무용품',\n",
       "   'category3': '다이어리/플래너',\n",
       "   'category4': '다이어리'},\n",
       "  {'title': '<b>몰스킨</b> 노트 가죽 하드커버 감성 고급 업무용 이쁜 심플',\n",
       "   'link': 'https://search.shopping.naver.com/gate.nhn?id=82526953942',\n",
       "   'image': 'https://shopping-phinf.pstatic.net/main_8252695/82526953942.7.jpg',\n",
       "   'lprice': '24000',\n",
       "   'hprice': '',\n",
       "   'mallName': '베스트펜',\n",
       "   'productId': '82526953942',\n",
       "   'productType': '2',\n",
       "   'brand': '몰스킨',\n",
       "   'maker': '',\n",
       "   'category1': '생활/건강',\n",
       "   'category2': '문구/사무용품',\n",
       "   'category3': '노트/수첩',\n",
       "   'category4': '노트'},\n",
       "  {'title': '[<b>몰스킨</b>] 2023년 클래식 다이어리(12개월) (데일리, 위클리, 먼슬리)',\n",
       "   'link': 'https://search.shopping.naver.com/gate.nhn?id=34373302556',\n",
       "   'image': 'https://shopping-phinf.pstatic.net/main_3437330/34373302556.jpg',\n",
       "   'lprice': '22950',\n",
       "   'hprice': '',\n",
       "   'mallName': '몰스킨공식온라인스토어',\n",
       "   'productId': '34373302556',\n",
       "   'productType': '2',\n",
       "   'brand': '몰스킨',\n",
       "   'maker': '',\n",
       "   'category1': '생활/건강',\n",
       "   'category2': '문구/사무용품',\n",
       "   'category3': '다이어리/플래너',\n",
       "   'category4': '다이어리'},\n",
       "  {'title': '스타벅스 2023 다이어리 <b>몰스킨</b> 플래너 데일리 카페 겨울 윈터 e프리퀀시',\n",
       "   'link': 'https://search.shopping.naver.com/gate.nhn?id=85132568687',\n",
       "   'image': 'https://shopping-phinf.pstatic.net/main_8513256/85132568687.25.jpg',\n",
       "   'lprice': '30000',\n",
       "   'hprice': '',\n",
       "   'mallName': '유니스의마켓',\n",
       "   'productId': '85132568687',\n",
       "   'productType': '2',\n",
       "   'brand': '스타벅스',\n",
       "   'maker': '몰스킨',\n",
       "   'category1': '생활/건강',\n",
       "   'category2': '문구/사무용품',\n",
       "   'category3': '다이어리/플래너',\n",
       "   'category4': '다이어리'},\n",
       "  {'title': '<b>몰스킨</b> 무료각인 하드 2023 위클리 노트북형 사파이어블루-라지',\n",
       "   'link': 'https://search.shopping.naver.com/gate.nhn?id=35386229109',\n",
       "   'image': 'https://shopping-phinf.pstatic.net/main_3538622/35386229109.20221022160215.jpg',\n",
       "   'lprice': '30969',\n",
       "   'hprice': '',\n",
       "   'mallName': '네이버',\n",
       "   'productId': '35386229109',\n",
       "   'productType': '1',\n",
       "   'brand': '몰스킨',\n",
       "   'maker': '몰스킨',\n",
       "   'category1': '생활/건강',\n",
       "   'category2': '문구/사무용품',\n",
       "   'category3': '다이어리/플래너',\n",
       "   'category4': '다이어리'},\n",
       "  {'title': '<b>몰스킨</b> 2023 라이프 스파이럴 다이어리 하드커버 상품선택',\n",
       "   'link': 'https://search.shopping.naver.com/gate.nhn?id=35474053613',\n",
       "   'image': 'https://shopping-phinf.pstatic.net/main_3547405/35474053613.20221027092919.jpg',\n",
       "   'lprice': '35700',\n",
       "   'hprice': '',\n",
       "   'mallName': '네이버',\n",
       "   'productId': '35474053613',\n",
       "   'productType': '1',\n",
       "   'brand': '몰스킨',\n",
       "   'maker': '몰스킨',\n",
       "   'category1': '생활/건강',\n",
       "   'category2': '문구/사무용품',\n",
       "   'category3': '다이어리/플래너',\n",
       "   'category4': '다이어리'},\n",
       "  {'title': '<b>몰스킨</b> 무료각인 소프트2023 먼슬리-포켓',\n",
       "   'link': 'https://search.shopping.naver.com/gate.nhn?id=36053973449',\n",
       "   'image': 'https://shopping-phinf.pstatic.net/main_3605397/36053973449.20221124040232.jpg',\n",
       "   'lprice': '22850',\n",
       "   'hprice': '',\n",
       "   'mallName': '네이버',\n",
       "   'productId': '36053973449',\n",
       "   'productType': '1',\n",
       "   'brand': '몰스킨',\n",
       "   'maker': '몰스킨',\n",
       "   'category1': '생활/건강',\n",
       "   'category2': '문구/사무용품',\n",
       "   'category3': '다이어리/플래너',\n",
       "   'category4': '다이어리'}]}"
      ]
     },
     "execution_count": 22,
     "metadata": {},
     "output_type": "execute_result"
    }
   ],
   "source": [
    "one_result"
   ]
  },
  {
   "cell_type": "code",
   "execution_count": 28,
   "metadata": {},
   "outputs": [
    {
     "data": {
      "text/plain": [
       "'<b>몰스킨</b> 2023 다이어리 위클리 다이어리 라지'"
      ]
     },
     "execution_count": 28,
     "metadata": {},
     "output_type": "execute_result"
    }
   ],
   "source": [
    "one_result['items'][0]['title']"
   ]
  },
  {
   "cell_type": "code",
   "execution_count": 29,
   "metadata": {},
   "outputs": [
    {
     "data": {
      "text/plain": [
       "'https://search.shopping.naver.com/gate.nhn?id=84662525433'"
      ]
     },
     "execution_count": 29,
     "metadata": {},
     "output_type": "execute_result"
    }
   ],
   "source": [
    "one_result['items'][0]['link']"
   ]
  },
  {
   "cell_type": "code",
   "execution_count": 30,
   "metadata": {},
   "outputs": [
    {
     "data": {
      "text/plain": [
       "'31450'"
      ]
     },
     "execution_count": 30,
     "metadata": {},
     "output_type": "execute_result"
    }
   ],
   "source": [
    "one_result['items'][0]['lprice']"
   ]
  },
  {
   "cell_type": "markdown",
   "metadata": {},
   "source": [
    "## (3). get_fields()"
   ]
  },
  {
   "cell_type": "code",
   "execution_count": 39,
   "metadata": {},
   "outputs": [
    {
     "data": {
      "text/plain": [
       "{'title': '<b>몰스킨</b> 2023 다이어리 위클리 다이어리 라지',\n",
       " 'link': 'https://search.shopping.naver.com/gate.nhn?id=84662525433',\n",
       " 'image': 'https://shopping-phinf.pstatic.net/main_8466252/84662525433.2.jpg',\n",
       " 'lprice': '31450',\n",
       " 'hprice': '',\n",
       " 'mallName': '베스트펜',\n",
       " 'productId': '84662525433',\n",
       " 'productType': '2',\n",
       " 'brand': '몰스킨',\n",
       " 'maker': '',\n",
       " 'category1': '생활/건강',\n",
       " 'category2': '문구/사무용품',\n",
       " 'category3': '다이어리/플래너',\n",
       " 'category4': '다이어리'}"
      ]
     },
     "execution_count": 39,
     "metadata": {},
     "output_type": "execute_result"
    }
   ],
   "source": [
    "one_result['items'][0]"
   ]
  },
  {
   "cell_type": "code",
   "execution_count": 41,
   "metadata": {},
   "outputs": [],
   "source": [
    "import pandas as pd \n",
    "\n",
    "def get_fileds(json_data):\n",
    "    title = [each['title'] for each in json_data['items']]\n",
    "    link = [each['link'] for each in json_data['items']]\n",
    "    lprice = [each['lprice'] for each in json_data['items']]\n",
    "    mall_name = [each['mallName'] for each in json_data['items']]\n",
    "    \n",
    "    result_pd = pd.DataFrame({\n",
    "        'title' : title,\n",
    "        'link' : link,\n",
    "        'lprice' : lprice,\n",
    "        'mall' : mall_name\n",
    "    }, columns=['title','lprice','link','mall'])\n",
    "    return result_pd"
   ]
  },
  {
   "cell_type": "code",
   "execution_count": 42,
   "metadata": {},
   "outputs": [
    {
     "data": {
      "text/html": [
       "<div>\n",
       "<style scoped>\n",
       "    .dataframe tbody tr th:only-of-type {\n",
       "        vertical-align: middle;\n",
       "    }\n",
       "\n",
       "    .dataframe tbody tr th {\n",
       "        vertical-align: top;\n",
       "    }\n",
       "\n",
       "    .dataframe thead th {\n",
       "        text-align: right;\n",
       "    }\n",
       "</style>\n",
       "<table border=\"1\" class=\"dataframe\">\n",
       "  <thead>\n",
       "    <tr style=\"text-align: right;\">\n",
       "      <th></th>\n",
       "      <th>title</th>\n",
       "      <th>lprice</th>\n",
       "      <th>link</th>\n",
       "      <th>mall</th>\n",
       "    </tr>\n",
       "  </thead>\n",
       "  <tbody>\n",
       "    <tr>\n",
       "      <th>0</th>\n",
       "      <td>&lt;b&gt;몰스킨&lt;/b&gt; 2023 다이어리 위클리 다이어리 라지</td>\n",
       "      <td>31450</td>\n",
       "      <td>https://search.shopping.naver.com/gate.nhn?id=...</td>\n",
       "      <td>베스트펜</td>\n",
       "    </tr>\n",
       "    <tr>\n",
       "      <th>1</th>\n",
       "      <td>&lt;b&gt;몰스킨&lt;/b&gt; 2023 데일리 12개월 다이어리 L</td>\n",
       "      <td>33150</td>\n",
       "      <td>https://search.shopping.naver.com/gate.nhn?id=...</td>\n",
       "      <td>네이버</td>\n",
       "    </tr>\n",
       "    <tr>\n",
       "      <th>2</th>\n",
       "      <td>다니엘크레뮤 22FW 헤비 코튼 &lt;b&gt;몰스킨&lt;/b&gt; 팬츠 3종</td>\n",
       "      <td>91580</td>\n",
       "      <td>https://search.shopping.naver.com/gate.nhn?id=...</td>\n",
       "      <td>네이버</td>\n",
       "    </tr>\n",
       "    <tr>\n",
       "      <th>3</th>\n",
       "      <td>&lt;b&gt;몰스킨&lt;/b&gt; 2023 앨리스 위클리 다이어리 하드커버 상품선택</td>\n",
       "      <td>34000</td>\n",
       "      <td>https://search.shopping.naver.com/gate.nhn?id=...</td>\n",
       "      <td>네이버</td>\n",
       "    </tr>\n",
       "    <tr>\n",
       "      <th>4</th>\n",
       "      <td>&lt;b&gt;몰스킨&lt;/b&gt; 노트 가죽 하드커버 감성 고급 업무용 이쁜 심플</td>\n",
       "      <td>24000</td>\n",
       "      <td>https://search.shopping.naver.com/gate.nhn?id=...</td>\n",
       "      <td>베스트펜</td>\n",
       "    </tr>\n",
       "  </tbody>\n",
       "</table>\n",
       "</div>"
      ],
      "text/plain": [
       "                                    title lprice  \\\n",
       "0        <b>몰스킨</b> 2023 다이어리 위클리 다이어리 라지  31450   \n",
       "1         <b>몰스킨</b> 2023 데일리 12개월 다이어리 L  33150   \n",
       "2      다니엘크레뮤 22FW 헤비 코튼 <b>몰스킨</b> 팬츠 3종  91580   \n",
       "3  <b>몰스킨</b> 2023 앨리스 위클리 다이어리 하드커버 상품선택  34000   \n",
       "4   <b>몰스킨</b> 노트 가죽 하드커버 감성 고급 업무용 이쁜 심플  24000   \n",
       "\n",
       "                                                link  mall  \n",
       "0  https://search.shopping.naver.com/gate.nhn?id=...  베스트펜  \n",
       "1  https://search.shopping.naver.com/gate.nhn?id=...   네이버  \n",
       "2  https://search.shopping.naver.com/gate.nhn?id=...   네이버  \n",
       "3  https://search.shopping.naver.com/gate.nhn?id=...   네이버  \n",
       "4  https://search.shopping.naver.com/gate.nhn?id=...  베스트펜  "
      ]
     },
     "execution_count": 42,
     "metadata": {},
     "output_type": "execute_result"
    }
   ],
   "source": [
    "get_fileds(one_result)"
   ]
  },
  {
   "cell_type": "markdown",
   "metadata": {},
   "source": [
    "## (4) delete_rag()"
   ]
  },
  {
   "cell_type": "code",
   "execution_count": 45,
   "metadata": {},
   "outputs": [],
   "source": [
    "def delete_tag(input_str):\n",
    "    input_str = input_str.replace('<b>', \"\")\n",
    "    input_str = input_str.replace('</b>', \"\")\n",
    "    return input_str"
   ]
  },
  {
   "cell_type": "code",
   "execution_count": 46,
   "metadata": {},
   "outputs": [],
   "source": [
    "import pandas as pd \n",
    "\n",
    "def get_fileds(json_data):\n",
    "    title = [delete_tag(each['title']) for each in json_data['items']]\n",
    "    link = [each['link'] for each in json_data['items']]\n",
    "    lprice = [each['lprice'] for each in json_data['items']]\n",
    "    mall_name = [each['mallName'] for each in json_data['items']]\n",
    "    \n",
    "    result_pd = pd.DataFrame({\n",
    "        'title' : title,\n",
    "        'link' : link,\n",
    "        'lprice' : lprice,\n",
    "        'mall' : mall_name\n",
    "    }, columns=['title','lprice','link','mall'])\n",
    "    return result_pd"
   ]
  },
  {
   "cell_type": "code",
   "execution_count": 47,
   "metadata": {},
   "outputs": [
    {
     "data": {
      "text/html": [
       "<div>\n",
       "<style scoped>\n",
       "    .dataframe tbody tr th:only-of-type {\n",
       "        vertical-align: middle;\n",
       "    }\n",
       "\n",
       "    .dataframe tbody tr th {\n",
       "        vertical-align: top;\n",
       "    }\n",
       "\n",
       "    .dataframe thead th {\n",
       "        text-align: right;\n",
       "    }\n",
       "</style>\n",
       "<table border=\"1\" class=\"dataframe\">\n",
       "  <thead>\n",
       "    <tr style=\"text-align: right;\">\n",
       "      <th></th>\n",
       "      <th>title</th>\n",
       "      <th>lprice</th>\n",
       "      <th>link</th>\n",
       "      <th>mall</th>\n",
       "    </tr>\n",
       "  </thead>\n",
       "  <tbody>\n",
       "    <tr>\n",
       "      <th>0</th>\n",
       "      <td>몰스킨 2023 다이어리 위클리 다이어리 라지</td>\n",
       "      <td>31450</td>\n",
       "      <td>https://search.shopping.naver.com/gate.nhn?id=...</td>\n",
       "      <td>베스트펜</td>\n",
       "    </tr>\n",
       "    <tr>\n",
       "      <th>1</th>\n",
       "      <td>몰스킨 2023 데일리 12개월 다이어리 L</td>\n",
       "      <td>33150</td>\n",
       "      <td>https://search.shopping.naver.com/gate.nhn?id=...</td>\n",
       "      <td>네이버</td>\n",
       "    </tr>\n",
       "    <tr>\n",
       "      <th>2</th>\n",
       "      <td>다니엘크레뮤 22FW 헤비 코튼 몰스킨 팬츠 3종</td>\n",
       "      <td>91580</td>\n",
       "      <td>https://search.shopping.naver.com/gate.nhn?id=...</td>\n",
       "      <td>네이버</td>\n",
       "    </tr>\n",
       "    <tr>\n",
       "      <th>3</th>\n",
       "      <td>몰스킨 2023 앨리스 위클리 다이어리 하드커버 상품선택</td>\n",
       "      <td>34000</td>\n",
       "      <td>https://search.shopping.naver.com/gate.nhn?id=...</td>\n",
       "      <td>네이버</td>\n",
       "    </tr>\n",
       "    <tr>\n",
       "      <th>4</th>\n",
       "      <td>몰스킨 노트 가죽 하드커버 감성 고급 업무용 이쁜 심플</td>\n",
       "      <td>24000</td>\n",
       "      <td>https://search.shopping.naver.com/gate.nhn?id=...</td>\n",
       "      <td>베스트펜</td>\n",
       "    </tr>\n",
       "  </tbody>\n",
       "</table>\n",
       "</div>"
      ],
      "text/plain": [
       "                             title lprice  \\\n",
       "0        몰스킨 2023 다이어리 위클리 다이어리 라지  31450   \n",
       "1         몰스킨 2023 데일리 12개월 다이어리 L  33150   \n",
       "2      다니엘크레뮤 22FW 헤비 코튼 몰스킨 팬츠 3종  91580   \n",
       "3  몰스킨 2023 앨리스 위클리 다이어리 하드커버 상품선택  34000   \n",
       "4   몰스킨 노트 가죽 하드커버 감성 고급 업무용 이쁜 심플  24000   \n",
       "\n",
       "                                                link  mall  \n",
       "0  https://search.shopping.naver.com/gate.nhn?id=...  베스트펜  \n",
       "1  https://search.shopping.naver.com/gate.nhn?id=...   네이버  \n",
       "2  https://search.shopping.naver.com/gate.nhn?id=...   네이버  \n",
       "3  https://search.shopping.naver.com/gate.nhn?id=...   네이버  \n",
       "4  https://search.shopping.naver.com/gate.nhn?id=...  베스트펜  "
      ]
     },
     "execution_count": 47,
     "metadata": {},
     "output_type": "execute_result"
    }
   ],
   "source": [
    "get_fileds(one_result)"
   ]
  },
  {
   "cell_type": "code",
   "execution_count": 48,
   "metadata": {},
   "outputs": [
    {
     "name": "stdout",
     "output_type": "stream",
     "text": [
      "[2022-12-30 18:06:43.057741] Url Request Success\n"
     ]
    }
   ],
   "source": [
    "url = gen_search_url('shop','몰스킨',1,5)\n",
    "json_result = get_result_onpage(url)\n",
    "pd_result = get_fileds(json_result)"
   ]
  },
  {
   "cell_type": "code",
   "execution_count": 49,
   "metadata": {},
   "outputs": [
    {
     "data": {
      "text/html": [
       "<div>\n",
       "<style scoped>\n",
       "    .dataframe tbody tr th:only-of-type {\n",
       "        vertical-align: middle;\n",
       "    }\n",
       "\n",
       "    .dataframe tbody tr th {\n",
       "        vertical-align: top;\n",
       "    }\n",
       "\n",
       "    .dataframe thead th {\n",
       "        text-align: right;\n",
       "    }\n",
       "</style>\n",
       "<table border=\"1\" class=\"dataframe\">\n",
       "  <thead>\n",
       "    <tr style=\"text-align: right;\">\n",
       "      <th></th>\n",
       "      <th>title</th>\n",
       "      <th>lprice</th>\n",
       "      <th>link</th>\n",
       "      <th>mall</th>\n",
       "    </tr>\n",
       "  </thead>\n",
       "  <tbody>\n",
       "    <tr>\n",
       "      <th>0</th>\n",
       "      <td>몰스킨 2023 다이어리 위클리 다이어리 라지</td>\n",
       "      <td>31450</td>\n",
       "      <td>https://search.shopping.naver.com/gate.nhn?id=...</td>\n",
       "      <td>베스트펜</td>\n",
       "    </tr>\n",
       "    <tr>\n",
       "      <th>1</th>\n",
       "      <td>몰스킨 2023 데일리 12개월 다이어리 L</td>\n",
       "      <td>33150</td>\n",
       "      <td>https://search.shopping.naver.com/gate.nhn?id=...</td>\n",
       "      <td>네이버</td>\n",
       "    </tr>\n",
       "    <tr>\n",
       "      <th>2</th>\n",
       "      <td>다니엘크레뮤 22FW 헤비 코튼 몰스킨 팬츠 3종</td>\n",
       "      <td>91580</td>\n",
       "      <td>https://search.shopping.naver.com/gate.nhn?id=...</td>\n",
       "      <td>네이버</td>\n",
       "    </tr>\n",
       "    <tr>\n",
       "      <th>3</th>\n",
       "      <td>몰스킨 2023 앨리스 위클리 다이어리 하드커버 상품선택</td>\n",
       "      <td>34000</td>\n",
       "      <td>https://search.shopping.naver.com/gate.nhn?id=...</td>\n",
       "      <td>네이버</td>\n",
       "    </tr>\n",
       "    <tr>\n",
       "      <th>4</th>\n",
       "      <td>몰스킨 노트 가죽 하드커버 감성 고급 업무용 이쁜 심플</td>\n",
       "      <td>24000</td>\n",
       "      <td>https://search.shopping.naver.com/gate.nhn?id=...</td>\n",
       "      <td>베스트펜</td>\n",
       "    </tr>\n",
       "  </tbody>\n",
       "</table>\n",
       "</div>"
      ],
      "text/plain": [
       "                             title lprice  \\\n",
       "0        몰스킨 2023 다이어리 위클리 다이어리 라지  31450   \n",
       "1         몰스킨 2023 데일리 12개월 다이어리 L  33150   \n",
       "2      다니엘크레뮤 22FW 헤비 코튼 몰스킨 팬츠 3종  91580   \n",
       "3  몰스킨 2023 앨리스 위클리 다이어리 하드커버 상품선택  34000   \n",
       "4   몰스킨 노트 가죽 하드커버 감성 고급 업무용 이쁜 심플  24000   \n",
       "\n",
       "                                                link  mall  \n",
       "0  https://search.shopping.naver.com/gate.nhn?id=...  베스트펜  \n",
       "1  https://search.shopping.naver.com/gate.nhn?id=...   네이버  \n",
       "2  https://search.shopping.naver.com/gate.nhn?id=...   네이버  \n",
       "3  https://search.shopping.naver.com/gate.nhn?id=...   네이버  \n",
       "4  https://search.shopping.naver.com/gate.nhn?id=...  베스트펜  "
      ]
     },
     "execution_count": 49,
     "metadata": {},
     "output_type": "execute_result"
    }
   ],
   "source": [
    "pd_result"
   ]
  },
  {
   "cell_type": "markdown",
   "metadata": {},
   "source": [
    "## (5). actMain()"
   ]
  },
  {
   "cell_type": "code",
   "execution_count": 50,
   "metadata": {},
   "outputs": [
    {
     "name": "stdout",
     "output_type": "stream",
     "text": [
      "1\n",
      "101\n",
      "201\n",
      "301\n",
      "401\n",
      "501\n",
      "601\n",
      "701\n",
      "801\n",
      "901\n"
     ]
    }
   ],
   "source": [
    "for n in range(1,1000,100):\n",
    "    print(n)"
   ]
  },
  {
   "cell_type": "code",
   "execution_count": 56,
   "metadata": {},
   "outputs": [
    {
     "name": "stdout",
     "output_type": "stream",
     "text": [
      "[2022-12-30 18:09:29.672071] Url Request Success\n",
      "[2022-12-30 18:09:29.961980] Url Request Success\n",
      "[2022-12-30 18:09:30.260340] Url Request Success\n",
      "[2022-12-30 18:09:30.548240] Url Request Success\n",
      "[2022-12-30 18:09:30.825528] Url Request Success\n",
      "[2022-12-30 18:09:31.108855] Url Request Success\n",
      "[2022-12-30 18:09:31.387838] Url Request Success\n",
      "[2022-12-30 18:09:31.704364] Url Request Success\n",
      "[2022-12-30 18:09:31.997003] Url Request Success\n",
      "[2022-12-30 18:09:32.301059] Url Request Success\n"
     ]
    }
   ],
   "source": [
    "result_mol = []\n",
    "for n in range(1,1000,100):\n",
    "    url = gen_search_url('shop','몰스킨',n,100)\n",
    "    json_result = get_result_onpage(url)\n",
    "    pd_result = get_fileds(json_result)\n",
    "\n",
    "    result_mol.append(pd_result)\n",
    "\n",
    "result_mol = pd.concat(result_mol)"
   ]
  },
  {
   "cell_type": "code",
   "execution_count": 57,
   "metadata": {},
   "outputs": [
    {
     "name": "stdout",
     "output_type": "stream",
     "text": [
      "<class 'pandas.core.frame.DataFrame'>\n",
      "Int64Index: 1000 entries, 0 to 99\n",
      "Data columns (total 4 columns):\n",
      " #   Column  Non-Null Count  Dtype \n",
      "---  ------  --------------  ----- \n",
      " 0   title   1000 non-null   object\n",
      " 1   lprice  1000 non-null   object\n",
      " 2   link    1000 non-null   object\n",
      " 3   mall    1000 non-null   object\n",
      "dtypes: object(4)\n",
      "memory usage: 39.1+ KB\n"
     ]
    }
   ],
   "source": [
    "result_mol.info()"
   ]
  },
  {
   "cell_type": "code",
   "execution_count": 58,
   "metadata": {},
   "outputs": [
    {
     "name": "stdout",
     "output_type": "stream",
     "text": [
      "<class 'pandas.core.frame.DataFrame'>\n",
      "RangeIndex: 1000 entries, 0 to 999\n",
      "Data columns (total 4 columns):\n",
      " #   Column  Non-Null Count  Dtype \n",
      "---  ------  --------------  ----- \n",
      " 0   title   1000 non-null   object\n",
      " 1   lprice  1000 non-null   object\n",
      " 2   link    1000 non-null   object\n",
      " 3   mall    1000 non-null   object\n",
      "dtypes: object(4)\n",
      "memory usage: 31.4+ KB\n"
     ]
    }
   ],
   "source": [
    "result_mol.reset_index(drop=True, inplace=True)\n",
    "result_mol.info()"
   ]
  },
  {
   "cell_type": "code",
   "execution_count": 59,
   "metadata": {},
   "outputs": [
    {
     "data": {
      "text/html": [
       "<div>\n",
       "<style scoped>\n",
       "    .dataframe tbody tr th:only-of-type {\n",
       "        vertical-align: middle;\n",
       "    }\n",
       "\n",
       "    .dataframe tbody tr th {\n",
       "        vertical-align: top;\n",
       "    }\n",
       "\n",
       "    .dataframe thead th {\n",
       "        text-align: right;\n",
       "    }\n",
       "</style>\n",
       "<table border=\"1\" class=\"dataframe\">\n",
       "  <thead>\n",
       "    <tr style=\"text-align: right;\">\n",
       "      <th></th>\n",
       "      <th>title</th>\n",
       "      <th>lprice</th>\n",
       "      <th>link</th>\n",
       "      <th>mall</th>\n",
       "    </tr>\n",
       "  </thead>\n",
       "  <tbody>\n",
       "    <tr>\n",
       "      <th>995</th>\n",
       "      <td>1300K 몰스킨 클래식노트 EXPANDED HD 플레인L 스칼렛레드</td>\n",
       "      <td>36610</td>\n",
       "      <td>https://search.shopping.naver.com/gate.nhn?id=...</td>\n",
       "      <td>네이버</td>\n",
       "    </tr>\n",
       "    <tr>\n",
       "      <th>996</th>\n",
       "      <td>Moleskine 배낭 타운 비즈니스 용 클래식 전문 배낭 사파이어 전문</td>\n",
       "      <td>169200</td>\n",
       "      <td>https://search.shopping.naver.com/gate.nhn?id=...</td>\n",
       "      <td>네이버</td>\n",
       "    </tr>\n",
       "    <tr>\n",
       "      <th>997</th>\n",
       "      <td>몰스킨 아트 컬렉션 아트불렛 노트 하드커버 라지 (색상선택)</td>\n",
       "      <td>45000</td>\n",
       "      <td>https://search.shopping.naver.com/gate.nhn?id=...</td>\n",
       "      <td>몰스킨스토어</td>\n",
       "    </tr>\n",
       "    <tr>\n",
       "      <th>998</th>\n",
       "      <td>[몰스킨] 클래식노트 익스팬디드 소프트커버 블랙</td>\n",
       "      <td>40000</td>\n",
       "      <td>https://search.shopping.naver.com/gate.nhn?id=...</td>\n",
       "      <td>몰스킨공식온라인스토어</td>\n",
       "    </tr>\n",
       "    <tr>\n",
       "      <th>999</th>\n",
       "      <td>몰스킨 클래식 레더 고급 줄 노트 가죽 양장 하드 커버 일기장 만년필 공책 AY</td>\n",
       "      <td>59800</td>\n",
       "      <td>https://search.shopping.naver.com/gate.nhn?id=...</td>\n",
       "      <td>네이버</td>\n",
       "    </tr>\n",
       "  </tbody>\n",
       "</table>\n",
       "</div>"
      ],
      "text/plain": [
       "                                            title  lprice  \\\n",
       "995        1300K 몰스킨 클래식노트 EXPANDED HD 플레인L 스칼렛레드   36610   \n",
       "996      Moleskine 배낭 타운 비즈니스 용 클래식 전문 배낭 사파이어 전문  169200   \n",
       "997             몰스킨 아트 컬렉션 아트불렛 노트 하드커버 라지 (색상선택)   45000   \n",
       "998                    [몰스킨] 클래식노트 익스팬디드 소프트커버 블랙   40000   \n",
       "999  몰스킨 클래식 레더 고급 줄 노트 가죽 양장 하드 커버 일기장 만년필 공책 AY   59800   \n",
       "\n",
       "                                                  link         mall  \n",
       "995  https://search.shopping.naver.com/gate.nhn?id=...          네이버  \n",
       "996  https://search.shopping.naver.com/gate.nhn?id=...          네이버  \n",
       "997  https://search.shopping.naver.com/gate.nhn?id=...       몰스킨스토어  \n",
       "998  https://search.shopping.naver.com/gate.nhn?id=...  몰스킨공식온라인스토어  \n",
       "999  https://search.shopping.naver.com/gate.nhn?id=...          네이버  "
      ]
     },
     "execution_count": 59,
     "metadata": {},
     "output_type": "execute_result"
    }
   ],
   "source": [
    "result_mol.tail()"
   ]
  },
  {
   "cell_type": "code",
   "execution_count": 60,
   "metadata": {},
   "outputs": [
    {
     "name": "stdout",
     "output_type": "stream",
     "text": [
      "<class 'pandas.core.frame.DataFrame'>\n",
      "RangeIndex: 1000 entries, 0 to 999\n",
      "Data columns (total 4 columns):\n",
      " #   Column  Non-Null Count  Dtype  \n",
      "---  ------  --------------  -----  \n",
      " 0   title   1000 non-null   object \n",
      " 1   lprice  1000 non-null   float64\n",
      " 2   link    1000 non-null   object \n",
      " 3   mall    1000 non-null   object \n",
      "dtypes: float64(1), object(3)\n",
      "memory usage: 31.4+ KB\n"
     ]
    }
   ],
   "source": [
    "result_mol['lprice'] = result_mol['lprice'].astype('float')\n",
    "result_mol.info()"
   ]
  },
  {
   "cell_type": "markdown",
   "metadata": {},
   "source": [
    "## (5) to_excel"
   ]
  },
  {
   "cell_type": "code",
   "execution_count": 61,
   "metadata": {},
   "outputs": [
    {
     "name": "stdout",
     "output_type": "stream",
     "text": [
      "Collecting xlsxwriter\n",
      "  Downloading XlsxWriter-3.0.4-py3-none-any.whl (149 kB)\n",
      "     -------------------------------------- 149.9/149.9 kB 4.5 MB/s eta 0:00:00\n",
      "Installing collected packages: xlsxwriter\n",
      "Successfully installed xlsxwriter-3.0.4\n"
     ]
    }
   ],
   "source": [
    "# !pip install xlsxwriter"
   ]
  },
  {
   "cell_type": "code",
   "execution_count": 62,
   "metadata": {},
   "outputs": [
    {
     "name": "stderr",
     "output_type": "stream",
     "text": [
      "C:\\Users\\user\\AppData\\Local\\Temp\\ipykernel_10136\\2175395854.py:14: FutureWarning: save is not part of the public API, usage can give unexpected results and will be removed in a future version\n",
      "  writer.save()\n"
     ]
    }
   ],
   "source": [
    "writer = pd.ExcelWriter('../data/06_molskin_diary_in_naver_shop.xlsx', engine='xlsxwriter')\n",
    "result_mol.to_excel(writer, sheet_name='Sheet1')\n",
    "\n",
    "workbook = writer.book\n",
    "worksheet = writer.sheets['Sheet1']\n",
    "worksheet.set_column('A:A', 4)\n",
    "worksheet.set_column('B:B', 60)\n",
    "worksheet.set_column('C:C', 10)\n",
    "worksheet.set_column('D:D', 10)\n",
    "worksheet.set_column('E:E', 50)\n",
    "worksheet.set_column('F:F', 10)\n",
    "\n",
    "worksheet.conditional_format('C2:C1001', {'type': '3_color_scale'})\n",
    "writer.save()"
   ]
  },
  {
   "cell_type": "code",
   "execution_count": 63,
   "metadata": {},
   "outputs": [
    {
     "name": "stderr",
     "output_type": "stream",
     "text": [
      "'ls'��(��) ���� �Ǵ� �ܺ� ����, ������ �� �ִ� ���α׷�, �Ǵ�\n",
      "��ġ ������ �ƴմϴ�.\n"
     ]
    }
   ],
   "source": [
    "!ls '../data/06_molskin_diary_in_naver_shop.xlsx'"
   ]
  },
  {
   "cell_type": "markdown",
   "metadata": {},
   "source": [
    "## (6) 시각화"
   ]
  },
  {
   "cell_type": "code",
   "execution_count": 67,
   "metadata": {},
   "outputs": [],
   "source": [
    "import matplotlib.pyplot as plt\n",
    "import seaborn as sns\n",
    "import platform\n",
    "from matplotlib import font_manager,rc\n",
    "%matplotlib inline\n",
    "path = 'C:/Windows/Fonts/malgun.ttf'\n",
    "\n",
    "if platform.system() == 'Darwin':\n",
    "    rc('font', family = 'Arial Unicode MS')\n",
    "elif platform.system() == 'Windows':\n",
    "    font_name = font_manager.FontProperties(fname=path).get_name()\n",
    "    rc('font', family = font_name)\n",
    "else:\n",
    "    print('unknown system')"
   ]
  },
  {
   "cell_type": "code",
   "execution_count": 71,
   "metadata": {},
   "outputs": [
    {
     "ename": "TypeError",
     "evalue": "countplot() got multiple values for argument 'data'",
     "output_type": "error",
     "traceback": [
      "\u001b[1;31m---------------------------------------------------------------------------\u001b[0m",
      "\u001b[1;31mTypeError\u001b[0m                                 Traceback (most recent call last)",
      "Cell \u001b[1;32mIn[71], line 2\u001b[0m\n\u001b[0;32m      1\u001b[0m plt\u001b[39m.\u001b[39mfigure(figsize\u001b[39m=\u001b[39m(\u001b[39m15\u001b[39m,\u001b[39m6\u001b[39m))\n\u001b[1;32m----> 2\u001b[0m sns\u001b[39m.\u001b[39;49mcountplot(\n\u001b[0;32m      3\u001b[0m     result_mol[\u001b[39m'\u001b[39;49m\u001b[39mmall\u001b[39;49m\u001b[39m'\u001b[39;49m], \n\u001b[0;32m      4\u001b[0m     data\u001b[39m=\u001b[39;49mresult_mol,\n\u001b[0;32m      5\u001b[0m     palette\u001b[39m=\u001b[39;49m\u001b[39m'\u001b[39;49m\u001b[39mRdYlGn\u001b[39;49m\u001b[39m'\u001b[39;49m,\n\u001b[0;32m      6\u001b[0m     order\u001b[39m=\u001b[39;49mresult_mol[\u001b[39m'\u001b[39;49m\u001b[39mmall\u001b[39;49m\u001b[39m'\u001b[39;49m]\u001b[39m.\u001b[39;49mvalue_counts()\u001b[39m.\u001b[39;49mindex\n\u001b[0;32m      7\u001b[0m )\n\u001b[0;32m      8\u001b[0m plt\u001b[39m.\u001b[39mxticks(rotation\u001b[39m=\u001b[39m\u001b[39m90\u001b[39m)\n\u001b[0;32m      9\u001b[0m plt\u001b[39m.\u001b[39mshow()\n",
      "\u001b[1;31mTypeError\u001b[0m: countplot() got multiple values for argument 'data'"
     ]
    },
    {
     "data": {
      "text/plain": [
       "<Figure size 1500x600 with 0 Axes>"
      ]
     },
     "metadata": {},
     "output_type": "display_data"
    }
   ],
   "source": [
    "plt.figure(figsize=(15,6))\n",
    "sns.countplot(\n",
    "    result_mol['mall'], \n",
    "    data=result_mol,\n",
    "    palette='RdYlGn',\n",
    "    order=result_mol['mall'].value_counts().index\n",
    ")\n",
    "plt.xticks(rotation=90)\n",
    "plt.show()"
   ]
  },
  {
   "cell_type": "code",
   "execution_count": null,
   "metadata": {},
   "outputs": [],
   "source": []
  }
 ],
 "metadata": {
  "kernelspec": {
   "display_name": "ds_study",
   "language": "python",
   "name": "python3"
  },
  "language_info": {
   "codemirror_mode": {
    "name": "ipython",
    "version": 3
   },
   "file_extension": ".py",
   "mimetype": "text/x-python",
   "name": "python",
   "nbconvert_exporter": "python",
   "pygments_lexer": "ipython3",
   "version": "3.8.15 (default, Nov 24 2022, 14:38:14) [MSC v.1916 64 bit (AMD64)]"
  },
  "orig_nbformat": 4,
  "vscode": {
   "interpreter": {
    "hash": "48b47ef07f8cbb10516d394180ce5ec5d2bd717fb884a02594f05e6ba15d1713"
   }
  }
 },
 "nbformat": 4,
 "nbformat_minor": 2
}
