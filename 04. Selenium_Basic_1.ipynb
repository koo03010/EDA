{
 "cells": [
  {
   "cell_type": "code",
   "execution_count": 1,
   "metadata": {},
   "outputs": [
    {
     "name": "stderr",
     "output_type": "stream",
     "text": [
      "C:\\Users\\user\\AppData\\Local\\Temp\\ipykernel_19088\\1711692230.py:3: DeprecationWarning: executable_path has been deprecated, please pass in a Service object\n",
      "  driver = webdriver.Chrome('../dirver/chromedriver.exe') # 크롬드라이버 경로지정\n"
     ]
    }
   ],
   "source": [
    "from selenium import webdriver\n",
    "\n",
    "driver = webdriver.Chrome('../dirver/chromedriver.exe') # 크롬드라이버 경로지정\n",
    "driver.get('https://pinkwink.kr/') # get명령으로 접근하고싶은 주소지정"
   ]
  },
  {
   "cell_type": "code",
   "execution_count": 2,
   "metadata": {},
   "outputs": [
    {
     "data": {
      "text/plain": [
       "{'width': 945, 'height': 1020}"
      ]
     },
     "execution_count": 2,
     "metadata": {},
     "output_type": "execute_result"
    }
   ],
   "source": [
    "# 현재 브라우저 창 크기\n",
    "driver.get_window_size()"
   ]
  },
  {
   "cell_type": "code",
   "execution_count": 3,
   "metadata": {},
   "outputs": [
    {
     "data": {
      "text/plain": [
       "{'x': 10, 'y': 10}"
      ]
     },
     "execution_count": 3,
     "metadata": {},
     "output_type": "execute_result"
    }
   ],
   "source": [
    "driver.get_window_position()"
   ]
  },
  {
   "cell_type": "code",
   "execution_count": 8,
   "metadata": {},
   "outputs": [
    {
     "data": {
      "text/plain": [
       "{'height': 1020, 'width': 945, 'x': -1152, 'y': 150}"
      ]
     },
     "execution_count": 8,
     "metadata": {},
     "output_type": "execute_result"
    }
   ],
   "source": [
    "driver.get_window_rect()"
   ]
  },
  {
   "cell_type": "code",
   "execution_count": 5,
   "metadata": {},
   "outputs": [
    {
     "data": {
      "text/plain": [
       "5901"
      ]
     },
     "execution_count": 5,
     "metadata": {},
     "output_type": "execute_result"
    }
   ],
   "source": [
    "# 스크롤 가능한 높이(길이)\n",
    "# 자바 스크립트 코드 실행\n",
    "driver.execute_script('return document.body.scrollHeight')"
   ]
  },
  {
   "cell_type": "code",
   "execution_count": 13,
   "metadata": {},
   "outputs": [],
   "source": [
    "# 화면 스크롤 하단이동\n",
    "driver.execute_script('window.scrollTo(0, document.body.scrollHeight);')"
   ]
  },
  {
   "cell_type": "code",
   "execution_count": 15,
   "metadata": {},
   "outputs": [],
   "source": [
    "# 화면 스크롤 상단이동\n",
    "driver.execute_script('window.scrollTo(0, 0);')"
   ]
  },
  {
   "cell_type": "code",
   "execution_count": 14,
   "metadata": {},
   "outputs": [
    {
     "data": {
      "text/plain": [
       "True"
      ]
     },
     "execution_count": 14,
     "metadata": {},
     "output_type": "execute_result"
    }
   ],
   "source": [
    "# 스크린샷\n",
    "driver.save_screenshot('./last_height.png')"
   ]
  },
  {
   "cell_type": "code",
   "execution_count": 20,
   "metadata": {},
   "outputs": [
    {
     "ename": "NoSuchElementException",
     "evalue": "Message: no such element: Unable to locate element: {\"method\":\"css selector\",\"selector\":\"#paging > ul\"}\n  (Session info: chrome=108.0.5359.125)\nStacktrace:\nBacktrace:\n\t(No symbol) [0x00A6F243]\n\t(No symbol) [0x009F7FD1]\n\t(No symbol) [0x008ED04D]\n\t(No symbol) [0x0091C0B0]\n\t(No symbol) [0x0091C22B]\n\t(No symbol) [0x0094E612]\n\t(No symbol) [0x009385D4]\n\t(No symbol) [0x0094C9EB]\n\t(No symbol) [0x00938386]\n\t(No symbol) [0x0091163C]\n\t(No symbol) [0x0091269D]\n\tGetHandleVerifier [0x00D09A22+2655074]\n\tGetHandleVerifier [0x00CFCA24+2601828]\n\tGetHandleVerifier [0x00B18C0A+619850]\n\tGetHandleVerifier [0x00B17830+614768]\n\t(No symbol) [0x00A005FC]\n\t(No symbol) [0x00A05968]\n\t(No symbol) [0x00A05A55]\n\t(No symbol) [0x00A1051B]\n\tBaseThreadInitThunk [0x75BC00F9+25]\n\tRtlGetAppContainerNamedObjectPath [0x77CD7BBE+286]\n\tRtlGetAppContainerNamedObjectPath [0x77CD7B8E+238]\n",
     "output_type": "error",
     "traceback": [
      "\u001b[1;31m---------------------------------------------------------------------------\u001b[0m",
      "\u001b[1;31mNoSuchElementException\u001b[0m                    Traceback (most recent call last)",
      "Cell \u001b[1;32mIn[20], line 8\u001b[0m\n\u001b[0;32m      4\u001b[0m \u001b[39mfrom\u001b[39;00m \u001b[39mselenium\u001b[39;00m\u001b[39m.\u001b[39;00m\u001b[39mwebdriver\u001b[39;00m\u001b[39m.\u001b[39;00m\u001b[39mcommon\u001b[39;00m\u001b[39m.\u001b[39;00m\u001b[39mby\u001b[39;00m \u001b[39mimport\u001b[39;00m By\n\u001b[0;32m      6\u001b[0m \u001b[39m# some_tag = driver.find_element_by_xpath('//*[@id=\"paging\"]/ul')\u001b[39;00m\n\u001b[0;32m      7\u001b[0m \u001b[39m# some_tag = driver.find_element_by_css_selector('#paging > ul')\u001b[39;00m\n\u001b[1;32m----> 8\u001b[0m some_tag \u001b[39m=\u001b[39m driver\u001b[39m.\u001b[39;49mfind_element(By\u001b[39m.\u001b[39;49mCSS_SELECTOR, \u001b[39m'\u001b[39;49m\u001b[39m#paging > ul\u001b[39;49m\u001b[39m'\u001b[39;49m)\n\u001b[0;32m      9\u001b[0m action \u001b[39m=\u001b[39m ActionChains(driver)\n\u001b[0;32m     10\u001b[0m action\u001b[39m.\u001b[39mmove_to_element(some_tag)\u001b[39m.\u001b[39mperform()\n",
      "File \u001b[1;32mc:\\Users\\user\\miniconda3\\envs\\ds_study\\lib\\site-packages\\selenium\\webdriver\\remote\\webdriver.py:861\u001b[0m, in \u001b[0;36mWebDriver.find_element\u001b[1;34m(self, by, value)\u001b[0m\n\u001b[0;32m    858\u001b[0m     by \u001b[39m=\u001b[39m By\u001b[39m.\u001b[39mCSS_SELECTOR\n\u001b[0;32m    859\u001b[0m     value \u001b[39m=\u001b[39m \u001b[39m'\u001b[39m\u001b[39m[name=\u001b[39m\u001b[39m\"\u001b[39m\u001b[39m%s\u001b[39;00m\u001b[39m\"\u001b[39m\u001b[39m]\u001b[39m\u001b[39m'\u001b[39m \u001b[39m%\u001b[39m value\n\u001b[1;32m--> 861\u001b[0m \u001b[39mreturn\u001b[39;00m \u001b[39mself\u001b[39;49m\u001b[39m.\u001b[39;49mexecute(Command\u001b[39m.\u001b[39;49mFIND_ELEMENT, {\u001b[39m\"\u001b[39;49m\u001b[39musing\u001b[39;49m\u001b[39m\"\u001b[39;49m: by, \u001b[39m\"\u001b[39;49m\u001b[39mvalue\u001b[39;49m\u001b[39m\"\u001b[39;49m: value})[\u001b[39m\"\u001b[39m\u001b[39mvalue\u001b[39m\u001b[39m\"\u001b[39m]\n",
      "File \u001b[1;32mc:\\Users\\user\\miniconda3\\envs\\ds_study\\lib\\site-packages\\selenium\\webdriver\\remote\\webdriver.py:444\u001b[0m, in \u001b[0;36mWebDriver.execute\u001b[1;34m(self, driver_command, params)\u001b[0m\n\u001b[0;32m    442\u001b[0m response \u001b[39m=\u001b[39m \u001b[39mself\u001b[39m\u001b[39m.\u001b[39mcommand_executor\u001b[39m.\u001b[39mexecute(driver_command, params)\n\u001b[0;32m    443\u001b[0m \u001b[39mif\u001b[39;00m response:\n\u001b[1;32m--> 444\u001b[0m     \u001b[39mself\u001b[39;49m\u001b[39m.\u001b[39;49merror_handler\u001b[39m.\u001b[39;49mcheck_response(response)\n\u001b[0;32m    445\u001b[0m     response[\u001b[39m\"\u001b[39m\u001b[39mvalue\u001b[39m\u001b[39m\"\u001b[39m] \u001b[39m=\u001b[39m \u001b[39mself\u001b[39m\u001b[39m.\u001b[39m_unwrap_value(response\u001b[39m.\u001b[39mget(\u001b[39m\"\u001b[39m\u001b[39mvalue\u001b[39m\u001b[39m\"\u001b[39m, \u001b[39mNone\u001b[39;00m))\n\u001b[0;32m    446\u001b[0m     \u001b[39mreturn\u001b[39;00m response\n",
      "File \u001b[1;32mc:\\Users\\user\\miniconda3\\envs\\ds_study\\lib\\site-packages\\selenium\\webdriver\\remote\\errorhandler.py:249\u001b[0m, in \u001b[0;36mErrorHandler.check_response\u001b[1;34m(self, response)\u001b[0m\n\u001b[0;32m    247\u001b[0m         alert_text \u001b[39m=\u001b[39m value[\u001b[39m\"\u001b[39m\u001b[39malert\u001b[39m\u001b[39m\"\u001b[39m]\u001b[39m.\u001b[39mget(\u001b[39m\"\u001b[39m\u001b[39mtext\u001b[39m\u001b[39m\"\u001b[39m)\n\u001b[0;32m    248\u001b[0m     \u001b[39mraise\u001b[39;00m exception_class(message, screen, stacktrace, alert_text)  \u001b[39m# type: ignore[call-arg]  # mypy is not smart enough here\u001b[39;00m\n\u001b[1;32m--> 249\u001b[0m \u001b[39mraise\u001b[39;00m exception_class(message, screen, stacktrace)\n",
      "\u001b[1;31mNoSuchElementException\u001b[0m: Message: no such element: Unable to locate element: {\"method\":\"css selector\",\"selector\":\"#paging > ul\"}\n  (Session info: chrome=108.0.5359.125)\nStacktrace:\nBacktrace:\n\t(No symbol) [0x00A6F243]\n\t(No symbol) [0x009F7FD1]\n\t(No symbol) [0x008ED04D]\n\t(No symbol) [0x0091C0B0]\n\t(No symbol) [0x0091C22B]\n\t(No symbol) [0x0094E612]\n\t(No symbol) [0x009385D4]\n\t(No symbol) [0x0094C9EB]\n\t(No symbol) [0x00938386]\n\t(No symbol) [0x0091163C]\n\t(No symbol) [0x0091269D]\n\tGetHandleVerifier [0x00D09A22+2655074]\n\tGetHandleVerifier [0x00CFCA24+2601828]\n\tGetHandleVerifier [0x00B18C0A+619850]\n\tGetHandleVerifier [0x00B17830+614768]\n\t(No symbol) [0x00A005FC]\n\t(No symbol) [0x00A05968]\n\t(No symbol) [0x00A05A55]\n\t(No symbol) [0x00A1051B]\n\tBaseThreadInitThunk [0x75BC00F9+25]\n\tRtlGetAppContainerNamedObjectPath [0x77CD7BBE+286]\n\tRtlGetAppContainerNamedObjectPath [0x77CD7B8E+238]\n"
     ]
    }
   ],
   "source": [
    "# 특정 태그 지점까지 스크롤하는코드\n",
    "\n",
    "from selenium.webdriver import ActionChains\n",
    "from selenium.webdriver.common.by import By\n",
    "\n",
    "# some_tag = driver.find_element_by_xpath('//*[@id=\"paging\"]/ul')\n",
    "# some_tag = driver.find_element_by_css_selector('#paging > ul')\n",
    "some_tag = driver.find_element(By.CSS_SELECTOR, '#paging > ul')\n",
    "action = ActionChains(driver)\n",
    "action.move_to_element(some_tag).perform()"
   ]
  },
  {
   "cell_type": "code",
   "execution_count": 22,
   "metadata": {},
   "outputs": [
    {
     "ename": "NoSuchElementException",
     "evalue": "Message: no such element: Unable to locate element: {\"method\":\"css selector\",\"selector\":\"[id=\"gsc-i-id1\"]\"}\n  (Session info: chrome=108.0.5359.125)\nStacktrace:\nBacktrace:\n\t(No symbol) [0x00A6F243]\n\t(No symbol) [0x009F7FD1]\n\t(No symbol) [0x008ED04D]\n\t(No symbol) [0x0091C0B0]\n\t(No symbol) [0x0091C22B]\n\t(No symbol) [0x0094E612]\n\t(No symbol) [0x009385D4]\n\t(No symbol) [0x0094C9EB]\n\t(No symbol) [0x00938386]\n\t(No symbol) [0x0091163C]\n\t(No symbol) [0x0091269D]\n\tGetHandleVerifier [0x00D09A22+2655074]\n\tGetHandleVerifier [0x00CFCA24+2601828]\n\tGetHandleVerifier [0x00B18C0A+619850]\n\tGetHandleVerifier [0x00B17830+614768]\n\t(No symbol) [0x00A005FC]\n\t(No symbol) [0x00A05968]\n\t(No symbol) [0x00A05A55]\n\t(No symbol) [0x00A1051B]\n\tBaseThreadInitThunk [0x75BC00F9+25]\n\tRtlGetAppContainerNamedObjectPath [0x77CD7BBE+286]\n\tRtlGetAppContainerNamedObjectPath [0x77CD7B8E+238]\n",
     "output_type": "error",
     "traceback": [
      "\u001b[1;31m---------------------------------------------------------------------------\u001b[0m",
      "\u001b[1;31mNoSuchElementException\u001b[0m                    Traceback (most recent call last)",
      "Cell \u001b[1;32mIn[22], line 3\u001b[0m\n\u001b[0;32m      1\u001b[0m \u001b[39m# 입력창에 글자넣기\u001b[39;00m\n\u001b[1;32m----> 3\u001b[0m driver\u001b[39m.\u001b[39;49mfind_element(By\u001b[39m.\u001b[39;49mID, \u001b[39m'\u001b[39;49m\u001b[39mgsc-i-id1\u001b[39;49m\u001b[39m'\u001b[39;49m)\n\u001b[0;32m      4\u001b[0m some_tag\u001b[39m.\u001b[39msend_keys(\u001b[39m'\u001b[39m\u001b[39mdata science\u001b[39m\u001b[39m'\u001b[39m)\n",
      "File \u001b[1;32mc:\\Users\\user\\miniconda3\\envs\\ds_study\\lib\\site-packages\\selenium\\webdriver\\remote\\webdriver.py:861\u001b[0m, in \u001b[0;36mWebDriver.find_element\u001b[1;34m(self, by, value)\u001b[0m\n\u001b[0;32m    858\u001b[0m     by \u001b[39m=\u001b[39m By\u001b[39m.\u001b[39mCSS_SELECTOR\n\u001b[0;32m    859\u001b[0m     value \u001b[39m=\u001b[39m \u001b[39m'\u001b[39m\u001b[39m[name=\u001b[39m\u001b[39m\"\u001b[39m\u001b[39m%s\u001b[39;00m\u001b[39m\"\u001b[39m\u001b[39m]\u001b[39m\u001b[39m'\u001b[39m \u001b[39m%\u001b[39m value\n\u001b[1;32m--> 861\u001b[0m \u001b[39mreturn\u001b[39;00m \u001b[39mself\u001b[39;49m\u001b[39m.\u001b[39;49mexecute(Command\u001b[39m.\u001b[39;49mFIND_ELEMENT, {\u001b[39m\"\u001b[39;49m\u001b[39musing\u001b[39;49m\u001b[39m\"\u001b[39;49m: by, \u001b[39m\"\u001b[39;49m\u001b[39mvalue\u001b[39;49m\u001b[39m\"\u001b[39;49m: value})[\u001b[39m\"\u001b[39m\u001b[39mvalue\u001b[39m\u001b[39m\"\u001b[39m]\n",
      "File \u001b[1;32mc:\\Users\\user\\miniconda3\\envs\\ds_study\\lib\\site-packages\\selenium\\webdriver\\remote\\webdriver.py:444\u001b[0m, in \u001b[0;36mWebDriver.execute\u001b[1;34m(self, driver_command, params)\u001b[0m\n\u001b[0;32m    442\u001b[0m response \u001b[39m=\u001b[39m \u001b[39mself\u001b[39m\u001b[39m.\u001b[39mcommand_executor\u001b[39m.\u001b[39mexecute(driver_command, params)\n\u001b[0;32m    443\u001b[0m \u001b[39mif\u001b[39;00m response:\n\u001b[1;32m--> 444\u001b[0m     \u001b[39mself\u001b[39;49m\u001b[39m.\u001b[39;49merror_handler\u001b[39m.\u001b[39;49mcheck_response(response)\n\u001b[0;32m    445\u001b[0m     response[\u001b[39m\"\u001b[39m\u001b[39mvalue\u001b[39m\u001b[39m\"\u001b[39m] \u001b[39m=\u001b[39m \u001b[39mself\u001b[39m\u001b[39m.\u001b[39m_unwrap_value(response\u001b[39m.\u001b[39mget(\u001b[39m\"\u001b[39m\u001b[39mvalue\u001b[39m\u001b[39m\"\u001b[39m, \u001b[39mNone\u001b[39;00m))\n\u001b[0;32m    446\u001b[0m     \u001b[39mreturn\u001b[39;00m response\n",
      "File \u001b[1;32mc:\\Users\\user\\miniconda3\\envs\\ds_study\\lib\\site-packages\\selenium\\webdriver\\remote\\errorhandler.py:249\u001b[0m, in \u001b[0;36mErrorHandler.check_response\u001b[1;34m(self, response)\u001b[0m\n\u001b[0;32m    247\u001b[0m         alert_text \u001b[39m=\u001b[39m value[\u001b[39m\"\u001b[39m\u001b[39malert\u001b[39m\u001b[39m\"\u001b[39m]\u001b[39m.\u001b[39mget(\u001b[39m\"\u001b[39m\u001b[39mtext\u001b[39m\u001b[39m\"\u001b[39m)\n\u001b[0;32m    248\u001b[0m     \u001b[39mraise\u001b[39;00m exception_class(message, screen, stacktrace, alert_text)  \u001b[39m# type: ignore[call-arg]  # mypy is not smart enough here\u001b[39;00m\n\u001b[1;32m--> 249\u001b[0m \u001b[39mraise\u001b[39;00m exception_class(message, screen, stacktrace)\n",
      "\u001b[1;31mNoSuchElementException\u001b[0m: Message: no such element: Unable to locate element: {\"method\":\"css selector\",\"selector\":\"[id=\"gsc-i-id1\"]\"}\n  (Session info: chrome=108.0.5359.125)\nStacktrace:\nBacktrace:\n\t(No symbol) [0x00A6F243]\n\t(No symbol) [0x009F7FD1]\n\t(No symbol) [0x008ED04D]\n\t(No symbol) [0x0091C0B0]\n\t(No symbol) [0x0091C22B]\n\t(No symbol) [0x0094E612]\n\t(No symbol) [0x009385D4]\n\t(No symbol) [0x0094C9EB]\n\t(No symbol) [0x00938386]\n\t(No symbol) [0x0091163C]\n\t(No symbol) [0x0091269D]\n\tGetHandleVerifier [0x00D09A22+2655074]\n\tGetHandleVerifier [0x00CFCA24+2601828]\n\tGetHandleVerifier [0x00B18C0A+619850]\n\tGetHandleVerifier [0x00B17830+614768]\n\t(No symbol) [0x00A005FC]\n\t(No symbol) [0x00A05968]\n\t(No symbol) [0x00A05A55]\n\t(No symbol) [0x00A1051B]\n\tBaseThreadInitThunk [0x75BC00F9+25]\n\tRtlGetAppContainerNamedObjectPath [0x77CD7BBE+286]\n\tRtlGetAppContainerNamedObjectPath [0x77CD7B8E+238]\n"
     ]
    }
   ],
   "source": [
    "# 입력창에 글자넣기\n",
    "# 화면에 보이지 않으면 어떠한 액션을 취할 수 없다\n",
    "driver.find_element(By.ID, 'gsc-i-id1')\n",
    "some_tag.send_keys('data science')"
   ]
  },
  {
   "cell_type": "code",
   "execution_count": 27,
   "metadata": {},
   "outputs": [
    {
     "ename": "WebDriverException",
     "evalue": "Message: unknown error: failed to change window state to 'normal', current state is 'maximized'\n  (Session info: chrome=108.0.5359.125)\nStacktrace:\nBacktrace:\n\t(No symbol) [0x00A6F243]\n\t(No symbol) [0x009F7FD1]\n\t(No symbol) [0x008ED04D]\n\t(No symbol) [0x008D6631]\n\t(No symbol) [0x008D5470]\n\t(No symbol) [0x008D5FFC]\n\t(No symbol) [0x0095C655]\n\t(No symbol) [0x0093858C]\n\t(No symbol) [0x0094C9EB]\n\t(No symbol) [0x00938386]\n\t(No symbol) [0x0091163C]\n\t(No symbol) [0x0091269D]\n\tGetHandleVerifier [0x00D09A22+2655074]\n\tGetHandleVerifier [0x00CFCA24+2601828]\n\tGetHandleVerifier [0x00B18C0A+619850]\n\tGetHandleVerifier [0x00B17830+614768]\n\t(No symbol) [0x00A005FC]\n\t(No symbol) [0x00A05968]\n\t(No symbol) [0x00A05A55]\n\t(No symbol) [0x00A1051B]\n\tBaseThreadInitThunk [0x75BC00F9+25]\n\tRtlGetAppContainerNamedObjectPath [0x77CD7BBE+286]\n\tRtlGetAppContainerNamedObjectPath [0x77CD7B8E+238]\n",
     "output_type": "error",
     "traceback": [
      "\u001b[1;31m---------------------------------------------------------------------------\u001b[0m",
      "\u001b[1;31mWebDriverException\u001b[0m                        Traceback (most recent call last)",
      "Cell \u001b[1;32mIn[27], line 4\u001b[0m\n\u001b[0;32m      1\u001b[0m \u001b[39m# 브라우저 창 크기 조절\u001b[39;00m\n\u001b[0;32m      2\u001b[0m \u001b[39m# 현재 보이는 화면에서만 액션을 취할 수 있다\u001b[39;00m\n\u001b[1;32m----> 4\u001b[0m driver\u001b[39m.\u001b[39;49mset_window_size(\u001b[39m900\u001b[39;49m,\u001b[39m600\u001b[39;49m)\n",
      "File \u001b[1;32mc:\\Users\\user\\miniconda3\\envs\\ds_study\\lib\\site-packages\\selenium\\webdriver\\remote\\webdriver.py:994\u001b[0m, in \u001b[0;36mWebDriver.set_window_size\u001b[1;34m(self, width, height, windowHandle)\u001b[0m\n\u001b[0;32m    992\u001b[0m \u001b[39mif\u001b[39;00m windowHandle \u001b[39m!=\u001b[39m \u001b[39m\"\u001b[39m\u001b[39mcurrent\u001b[39m\u001b[39m\"\u001b[39m:\n\u001b[0;32m    993\u001b[0m     warnings\u001b[39m.\u001b[39mwarn(\u001b[39m\"\u001b[39m\u001b[39mOnly \u001b[39m\u001b[39m'\u001b[39m\u001b[39mcurrent\u001b[39m\u001b[39m'\u001b[39m\u001b[39m window is supported for W3C compatible browsers.\u001b[39m\u001b[39m\"\u001b[39m)\n\u001b[1;32m--> 994\u001b[0m \u001b[39mself\u001b[39;49m\u001b[39m.\u001b[39;49mset_window_rect(width\u001b[39m=\u001b[39;49m\u001b[39mint\u001b[39;49m(width), height\u001b[39m=\u001b[39;49m\u001b[39mint\u001b[39;49m(height))\n",
      "File \u001b[1;32mc:\\Users\\user\\miniconda3\\envs\\ds_study\\lib\\site-packages\\selenium\\webdriver\\remote\\webdriver.py:1078\u001b[0m, in \u001b[0;36mWebDriver.set_window_rect\u001b[1;34m(self, x, y, width, height)\u001b[0m\n\u001b[0;32m   1075\u001b[0m \u001b[39mif\u001b[39;00m (x \u001b[39mis\u001b[39;00m \u001b[39mNone\u001b[39;00m \u001b[39mand\u001b[39;00m y \u001b[39mis\u001b[39;00m \u001b[39mNone\u001b[39;00m) \u001b[39mand\u001b[39;00m (\u001b[39mnot\u001b[39;00m height \u001b[39mand\u001b[39;00m \u001b[39mnot\u001b[39;00m width):\n\u001b[0;32m   1076\u001b[0m     \u001b[39mraise\u001b[39;00m InvalidArgumentException(\u001b[39m\"\u001b[39m\u001b[39mx and y or height and width need values\u001b[39m\u001b[39m\"\u001b[39m)\n\u001b[1;32m-> 1078\u001b[0m \u001b[39mreturn\u001b[39;00m \u001b[39mself\u001b[39;49m\u001b[39m.\u001b[39;49mexecute(Command\u001b[39m.\u001b[39;49mSET_WINDOW_RECT, {\u001b[39m\"\u001b[39;49m\u001b[39mx\u001b[39;49m\u001b[39m\"\u001b[39;49m: x, \u001b[39m\"\u001b[39;49m\u001b[39my\u001b[39;49m\u001b[39m\"\u001b[39;49m: y, \u001b[39m\"\u001b[39;49m\u001b[39mwidth\u001b[39;49m\u001b[39m\"\u001b[39;49m: width, \u001b[39m\"\u001b[39;49m\u001b[39mheight\u001b[39;49m\u001b[39m\"\u001b[39;49m: height})[\u001b[39m\"\u001b[39m\u001b[39mvalue\u001b[39m\u001b[39m\"\u001b[39m]\n",
      "File \u001b[1;32mc:\\Users\\user\\miniconda3\\envs\\ds_study\\lib\\site-packages\\selenium\\webdriver\\remote\\webdriver.py:444\u001b[0m, in \u001b[0;36mWebDriver.execute\u001b[1;34m(self, driver_command, params)\u001b[0m\n\u001b[0;32m    442\u001b[0m response \u001b[39m=\u001b[39m \u001b[39mself\u001b[39m\u001b[39m.\u001b[39mcommand_executor\u001b[39m.\u001b[39mexecute(driver_command, params)\n\u001b[0;32m    443\u001b[0m \u001b[39mif\u001b[39;00m response:\n\u001b[1;32m--> 444\u001b[0m     \u001b[39mself\u001b[39;49m\u001b[39m.\u001b[39;49merror_handler\u001b[39m.\u001b[39;49mcheck_response(response)\n\u001b[0;32m    445\u001b[0m     response[\u001b[39m\"\u001b[39m\u001b[39mvalue\u001b[39m\u001b[39m\"\u001b[39m] \u001b[39m=\u001b[39m \u001b[39mself\u001b[39m\u001b[39m.\u001b[39m_unwrap_value(response\u001b[39m.\u001b[39mget(\u001b[39m\"\u001b[39m\u001b[39mvalue\u001b[39m\u001b[39m\"\u001b[39m, \u001b[39mNone\u001b[39;00m))\n\u001b[0;32m    446\u001b[0m     \u001b[39mreturn\u001b[39;00m response\n",
      "File \u001b[1;32mc:\\Users\\user\\miniconda3\\envs\\ds_study\\lib\\site-packages\\selenium\\webdriver\\remote\\errorhandler.py:249\u001b[0m, in \u001b[0;36mErrorHandler.check_response\u001b[1;34m(self, response)\u001b[0m\n\u001b[0;32m    247\u001b[0m         alert_text \u001b[39m=\u001b[39m value[\u001b[39m\"\u001b[39m\u001b[39malert\u001b[39m\u001b[39m\"\u001b[39m]\u001b[39m.\u001b[39mget(\u001b[39m\"\u001b[39m\u001b[39mtext\u001b[39m\u001b[39m\"\u001b[39m)\n\u001b[0;32m    248\u001b[0m     \u001b[39mraise\u001b[39;00m exception_class(message, screen, stacktrace, alert_text)  \u001b[39m# type: ignore[call-arg]  # mypy is not smart enough here\u001b[39;00m\n\u001b[1;32m--> 249\u001b[0m \u001b[39mraise\u001b[39;00m exception_class(message, screen, stacktrace)\n",
      "\u001b[1;31mWebDriverException\u001b[0m: Message: unknown error: failed to change window state to 'normal', current state is 'maximized'\n  (Session info: chrome=108.0.5359.125)\nStacktrace:\nBacktrace:\n\t(No symbol) [0x00A6F243]\n\t(No symbol) [0x009F7FD1]\n\t(No symbol) [0x008ED04D]\n\t(No symbol) [0x008D6631]\n\t(No symbol) [0x008D5470]\n\t(No symbol) [0x008D5FFC]\n\t(No symbol) [0x0095C655]\n\t(No symbol) [0x0093858C]\n\t(No symbol) [0x0094C9EB]\n\t(No symbol) [0x00938386]\n\t(No symbol) [0x0091163C]\n\t(No symbol) [0x0091269D]\n\tGetHandleVerifier [0x00D09A22+2655074]\n\tGetHandleVerifier [0x00CFCA24+2601828]\n\tGetHandleVerifier [0x00B18C0A+619850]\n\tGetHandleVerifier [0x00B17830+614768]\n\t(No symbol) [0x00A005FC]\n\t(No symbol) [0x00A05968]\n\t(No symbol) [0x00A05A55]\n\t(No symbol) [0x00A1051B]\n\tBaseThreadInitThunk [0x75BC00F9+25]\n\tRtlGetAppContainerNamedObjectPath [0x77CD7BBE+286]\n\tRtlGetAppContainerNamedObjectPath [0x77CD7B8E+238]\n"
     ]
    }
   ],
   "source": [
    "# 브라우저 창 크기 조절\n",
    "# 현재 보이는 화면에서만 액션을 취할 수 있다\n",
    "\n",
    "driver.set_window_size(900,600)"
   ]
  },
  {
   "cell_type": "code",
   "execution_count": 28,
   "metadata": {},
   "outputs": [],
   "source": [
    "# 화면 최대화\n",
    "driver.maximize_window()"
   ]
  },
  {
   "cell_type": "code",
   "execution_count": 32,
   "metadata": {},
   "outputs": [],
   "source": [
    "# 화면 최소화\n",
    "driver.minimize_window()"
   ]
  },
  {
   "cell_type": "code",
   "execution_count": 33,
   "metadata": {},
   "outputs": [
    {
     "ename": "NameError",
     "evalue": "name 'some_tag' is not defined",
     "output_type": "error",
     "traceback": [
      "\u001b[1;31m---------------------------------------------------------------------------\u001b[0m",
      "\u001b[1;31mNameError\u001b[0m                                 Traceback (most recent call last)",
      "Cell \u001b[1;32mIn[33], line 2\u001b[0m\n\u001b[0;32m      1\u001b[0m \u001b[39m# 새로 입력하면 뒤에 추가로 붙음\u001b[39;00m\n\u001b[1;32m----> 2\u001b[0m some_tag\u001b[39m.\u001b[39msend_keys(\u001b[39m'\u001b[39m\u001b[39mpython\u001b[39m\u001b[39m'\u001b[39m)\n",
      "\u001b[1;31mNameError\u001b[0m: name 'some_tag' is not defined"
     ]
    }
   ],
   "source": [
    "# 새로 입력하면 뒤에 추가로 붙음\n",
    "some_tag.send_keys('python')"
   ]
  },
  {
   "cell_type": "code",
   "execution_count": 34,
   "metadata": {},
   "outputs": [
    {
     "ename": "NameError",
     "evalue": "name 'some_tag' is not defined",
     "output_type": "error",
     "traceback": [
      "\u001b[1;31m---------------------------------------------------------------------------\u001b[0m",
      "\u001b[1;31mNameError\u001b[0m                                 Traceback (most recent call last)",
      "Cell \u001b[1;32mIn[34], line 2\u001b[0m\n\u001b[0;32m      1\u001b[0m \u001b[39m# 초기화 후 검색어 입력\u001b[39;00m\n\u001b[1;32m----> 2\u001b[0m some_tag\u001b[39m.\u001b[39mclear()\n\u001b[0;32m      3\u001b[0m some_tag\u001b[39m.\u001b[39msend_keys(\u001b[39m'\u001b[39m\u001b[39mpython\u001b[39m\u001b[39m'\u001b[39m)\n",
      "\u001b[1;31mNameError\u001b[0m: name 'some_tag' is not defined"
     ]
    }
   ],
   "source": [
    "# 초기화 후 검색어 입력\n",
    "some_tag.clear()\n",
    "some_tag.send_keys('python')"
   ]
  },
  {
   "cell_type": "markdown",
   "metadata": {},
   "source": [
    "# Xpath\n",
    "\n",
    "// : 최상위 엘리먼트 \n",
    "* : 자손태그 검색 => div form # 띄어쓰기 = 자손태그검색\n",
    "/ : 자식 태그 검색 => div > form # 꺽쇠= 자식태그검색\n",
    "td[2] : td중에서 2번째 태그를 선택 => td : nth_child(2)"
   ]
  },
  {
   "cell_type": "markdown",
   "metadata": {},
   "source": [
    "## find_element\n",
    "\n",
    "- find_element_by_css_selector => find,select_one\n",
    "- find_elements_by_css_selector => find_all, select"
   ]
  },
  {
   "cell_type": "code",
   "execution_count": 36,
   "metadata": {},
   "outputs": [
    {
     "data": {
      "text/plain": [
       "<bound method WebElement.click of <selenium.webdriver.remote.webelement.WebElement (session=\"4d6c5292c76960ddf8ee14a2b9b92cda\", element=\"19970ef8-0450-4ce2-bb38-bd2faf22f832\")>>"
      ]
     },
     "execution_count": 36,
     "metadata": {},
     "output_type": "execute_result"
    }
   ],
   "source": [
    "# xpath\n",
    "\n",
    "xpath = '//*[@id=\"header\"]/div[2]/button'\n",
    "some_tag = driver.find_element(By.XPATH, xpath)\n",
    "some_tag.click"
   ]
  },
  {
   "cell_type": "code",
   "execution_count": 40,
   "metadata": {},
   "outputs": [
    {
     "ename": "InvalidSelectorException",
     "evalue": "Message: invalid selector: An invalid or illegal selector was specified\n  (Session info: chrome=108.0.5359.125)\nStacktrace:\nBacktrace:\n\t(No symbol) [0x00A6F243]\n\t(No symbol) [0x009F7FD1]\n\t(No symbol) [0x008ED04D]\n\t(No symbol) [0x008EFD34]\n\t(No symbol) [0x008EFBE5]\n\t(No symbol) [0x008EFE80]\n\t(No symbol) [0x0091BD55]\n\t(No symbol) [0x0091C22B]\n\t(No symbol) [0x0094E612]\n\t(No symbol) [0x009385D4]\n\t(No symbol) [0x0094C9EB]\n\t(No symbol) [0x00938386]\n\t(No symbol) [0x0091163C]\n\t(No symbol) [0x0091269D]\n\tGetHandleVerifier [0x00D09A22+2655074]\n\tGetHandleVerifier [0x00CFCA24+2601828]\n\tGetHandleVerifier [0x00B18C0A+619850]\n\tGetHandleVerifier [0x00B17830+614768]\n\t(No symbol) [0x00A005FC]\n\t(No symbol) [0x00A05968]\n\t(No symbol) [0x00A05A55]\n\t(No symbol) [0x00A1051B]\n\tBaseThreadInitThunk [0x75BC00F9+25]\n\tRtlGetAppContainerNamedObjectPath [0x77CD7BBE+286]\n\tRtlGetAppContainerNamedObjectPath [0x77CD7B8E+238]\n",
     "output_type": "error",
     "traceback": [
      "\u001b[1;31m---------------------------------------------------------------------------\u001b[0m",
      "\u001b[1;31mInvalidSelectorException\u001b[0m                  Traceback (most recent call last)",
      "Cell \u001b[1;32mIn[40], line 2\u001b[0m\n\u001b[0;32m      1\u001b[0m css \u001b[39m=\u001b[39m \u001b[39m'\u001b[39m\u001b[39m#___header > div[2] > button\u001b[39m\u001b[39m'\u001b[39m \u001b[39m# 자식 태그와 자손태그\u001b[39;00m\n\u001b[1;32m----> 2\u001b[0m some_tag \u001b[39m=\u001b[39m driver\u001b[39m.\u001b[39;49mfind_element(By\u001b[39m.\u001b[39;49mCSS_SELECTOR, css)\n\u001b[0;32m      3\u001b[0m some_tag\u001b[39m.\u001b[39mclick()\n",
      "File \u001b[1;32mc:\\Users\\user\\miniconda3\\envs\\ds_study\\lib\\site-packages\\selenium\\webdriver\\remote\\webdriver.py:861\u001b[0m, in \u001b[0;36mWebDriver.find_element\u001b[1;34m(self, by, value)\u001b[0m\n\u001b[0;32m    858\u001b[0m     by \u001b[39m=\u001b[39m By\u001b[39m.\u001b[39mCSS_SELECTOR\n\u001b[0;32m    859\u001b[0m     value \u001b[39m=\u001b[39m \u001b[39m'\u001b[39m\u001b[39m[name=\u001b[39m\u001b[39m\"\u001b[39m\u001b[39m%s\u001b[39;00m\u001b[39m\"\u001b[39m\u001b[39m]\u001b[39m\u001b[39m'\u001b[39m \u001b[39m%\u001b[39m value\n\u001b[1;32m--> 861\u001b[0m \u001b[39mreturn\u001b[39;00m \u001b[39mself\u001b[39;49m\u001b[39m.\u001b[39;49mexecute(Command\u001b[39m.\u001b[39;49mFIND_ELEMENT, {\u001b[39m\"\u001b[39;49m\u001b[39musing\u001b[39;49m\u001b[39m\"\u001b[39;49m: by, \u001b[39m\"\u001b[39;49m\u001b[39mvalue\u001b[39;49m\u001b[39m\"\u001b[39;49m: value})[\u001b[39m\"\u001b[39m\u001b[39mvalue\u001b[39m\u001b[39m\"\u001b[39m]\n",
      "File \u001b[1;32mc:\\Users\\user\\miniconda3\\envs\\ds_study\\lib\\site-packages\\selenium\\webdriver\\remote\\webdriver.py:444\u001b[0m, in \u001b[0;36mWebDriver.execute\u001b[1;34m(self, driver_command, params)\u001b[0m\n\u001b[0;32m    442\u001b[0m response \u001b[39m=\u001b[39m \u001b[39mself\u001b[39m\u001b[39m.\u001b[39mcommand_executor\u001b[39m.\u001b[39mexecute(driver_command, params)\n\u001b[0;32m    443\u001b[0m \u001b[39mif\u001b[39;00m response:\n\u001b[1;32m--> 444\u001b[0m     \u001b[39mself\u001b[39;49m\u001b[39m.\u001b[39;49merror_handler\u001b[39m.\u001b[39;49mcheck_response(response)\n\u001b[0;32m    445\u001b[0m     response[\u001b[39m\"\u001b[39m\u001b[39mvalue\u001b[39m\u001b[39m\"\u001b[39m] \u001b[39m=\u001b[39m \u001b[39mself\u001b[39m\u001b[39m.\u001b[39m_unwrap_value(response\u001b[39m.\u001b[39mget(\u001b[39m\"\u001b[39m\u001b[39mvalue\u001b[39m\u001b[39m\"\u001b[39m, \u001b[39mNone\u001b[39;00m))\n\u001b[0;32m    446\u001b[0m     \u001b[39mreturn\u001b[39;00m response\n",
      "File \u001b[1;32mc:\\Users\\user\\miniconda3\\envs\\ds_study\\lib\\site-packages\\selenium\\webdriver\\remote\\errorhandler.py:249\u001b[0m, in \u001b[0;36mErrorHandler.check_response\u001b[1;34m(self, response)\u001b[0m\n\u001b[0;32m    247\u001b[0m         alert_text \u001b[39m=\u001b[39m value[\u001b[39m\"\u001b[39m\u001b[39malert\u001b[39m\u001b[39m\"\u001b[39m]\u001b[39m.\u001b[39mget(\u001b[39m\"\u001b[39m\u001b[39mtext\u001b[39m\u001b[39m\"\u001b[39m)\n\u001b[0;32m    248\u001b[0m     \u001b[39mraise\u001b[39;00m exception_class(message, screen, stacktrace, alert_text)  \u001b[39m# type: ignore[call-arg]  # mypy is not smart enough here\u001b[39;00m\n\u001b[1;32m--> 249\u001b[0m \u001b[39mraise\u001b[39;00m exception_class(message, screen, stacktrace)\n",
      "\u001b[1;31mInvalidSelectorException\u001b[0m: Message: invalid selector: An invalid or illegal selector was specified\n  (Session info: chrome=108.0.5359.125)\nStacktrace:\nBacktrace:\n\t(No symbol) [0x00A6F243]\n\t(No symbol) [0x009F7FD1]\n\t(No symbol) [0x008ED04D]\n\t(No symbol) [0x008EFD34]\n\t(No symbol) [0x008EFBE5]\n\t(No symbol) [0x008EFE80]\n\t(No symbol) [0x0091BD55]\n\t(No symbol) [0x0091C22B]\n\t(No symbol) [0x0094E612]\n\t(No symbol) [0x009385D4]\n\t(No symbol) [0x0094C9EB]\n\t(No symbol) [0x00938386]\n\t(No symbol) [0x0091163C]\n\t(No symbol) [0x0091269D]\n\tGetHandleVerifier [0x00D09A22+2655074]\n\tGetHandleVerifier [0x00CFCA24+2601828]\n\tGetHandleVerifier [0x00B18C0A+619850]\n\tGetHandleVerifier [0x00B17830+614768]\n\t(No symbol) [0x00A005FC]\n\t(No symbol) [0x00A05968]\n\t(No symbol) [0x00A05A55]\n\t(No symbol) [0x00A1051B]\n\tBaseThreadInitThunk [0x75BC00F9+25]\n\tRtlGetAppContainerNamedObjectPath [0x77CD7BBE+286]\n\tRtlGetAppContainerNamedObjectPath [0x77CD7B8E+238]\n"
     ]
    }
   ],
   "source": [
    "css = '#___header > div[2] > button' # 자식 태그와 자손태그\n",
    "some_tag = driver.find_element(By.CSS_SELECTOR, css)\n",
    "some_tag.click()"
   ]
  },
  {
   "cell_type": "code",
   "execution_count": 37,
   "metadata": {},
   "outputs": [],
   "source": [
    "driver.back()"
   ]
  },
  {
   "cell_type": "code",
   "execution_count": 38,
   "metadata": {},
   "outputs": [],
   "source": [
    "driver.forward()"
   ]
  },
  {
   "cell_type": "code",
   "execution_count": 41,
   "metadata": {},
   "outputs": [],
   "source": [
    "from bs4 import BeautifulSoup\n",
    "\n",
    "req = driver.page_source\n",
    "soup = BeautifulSoup(req, 'html.parser')"
   ]
  },
  {
   "cell_type": "code",
   "execution_count": 46,
   "metadata": {},
   "outputs": [
    {
     "data": {
      "text/plain": [
       "'비버웍스가 NLP 해커톤 대회를 통해 좋은 인재를 모집합니다. [feat. 핑크랩]'"
      ]
     },
     "execution_count": 46,
     "metadata": {},
     "output_type": "execute_result"
    }
   ],
   "source": [
    "# content > div.inner > div:nth-child(1) > a > span.title\n",
    "elements = soup.select('#content > div.inner > div:nth-child(1) > a > span.title')\n",
    "elements[0].text"
   ]
  },
  {
   "cell_type": "code",
   "execution_count": null,
   "metadata": {},
   "outputs": [],
   "source": []
  }
 ],
 "metadata": {
  "kernelspec": {
   "display_name": "ds_study",
   "language": "python",
   "name": "python3"
  },
  "language_info": {
   "codemirror_mode": {
    "name": "ipython",
    "version": 3
   },
   "file_extension": ".py",
   "mimetype": "text/x-python",
   "name": "python",
   "nbconvert_exporter": "python",
   "pygments_lexer": "ipython3",
   "version": "3.8.15 (default, Nov 24 2022, 14:38:14) [MSC v.1916 64 bit (AMD64)]"
  },
  "orig_nbformat": 4,
  "vscode": {
   "interpreter": {
    "hash": "48b47ef07f8cbb10516d394180ce5ec5d2bd717fb884a02594f05e6ba15d1713"
   }
  }
 },
 "nbformat": 4,
 "nbformat_minor": 2
}
